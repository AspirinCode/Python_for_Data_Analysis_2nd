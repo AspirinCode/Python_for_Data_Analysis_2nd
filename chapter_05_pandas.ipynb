{
 "cells": [
  {
   "cell_type": "code",
   "execution_count": 1,
   "metadata": {
    "collapsed": true
   },
   "outputs": [],
   "source": [
    "import pandas as pd\n",
    "from pandas import Series,DataFrame\n",
    "import numpy as np\n",
    "from IPython.core.interactiveshell import InteractiveShell\n",
    "InteractiveShell.ast_node_interactivity = 'all' # 在一个cell中的多行代码都out出来\n",
    "# Options:\t'all', 'last', 'last_expr', 'none', 'last_expr_or_assign'\n",
    "# Default:\t'last_expr'"
   ]
  },
  {
   "cell_type": "markdown",
   "metadata": {
    "heading_collapsed": true
   },
   "source": [
    "# Series"
   ]
  },
  {
   "cell_type": "code",
   "execution_count": 11,
   "metadata": {
    "hidden": true
   },
   "outputs": [
    {
     "data": {
      "text/plain": [
       "pandas.core.series.Series"
      ]
     },
     "execution_count": 11,
     "metadata": {},
     "output_type": "execute_result"
    }
   ],
   "source": [
    "obj = Series([4,7,-5,3])\n",
    "obj"
   ]
  },
  {
   "cell_type": "code",
   "execution_count": 4,
   "metadata": {
    "hidden": true
   },
   "outputs": [
    {
     "data": {
      "text/plain": [
       "RangeIndex(start=0, stop=4, step=1)"
      ]
     },
     "execution_count": 4,
     "metadata": {},
     "output_type": "execute_result"
    }
   ],
   "source": [
    "obj.values\n",
    "obj.index"
   ]
  },
  {
   "cell_type": "code",
   "execution_count": 7,
   "metadata": {
    "hidden": true
   },
   "outputs": [
    {
     "data": {
      "text/plain": [
       "Index(['b', 'd', 'a', 'c'], dtype='object')"
      ]
     },
     "execution_count": 7,
     "metadata": {},
     "output_type": "execute_result"
    }
   ],
   "source": [
    "obj2 = Series([4,7,-5,3],['b','d','a','c'])\n",
    "obj2.index"
   ]
  },
  {
   "cell_type": "code",
   "execution_count": 14,
   "metadata": {
    "hidden": true
   },
   "outputs": [
    {
     "data": {
      "text/plain": [
       "b    4\n",
       "d    7\n",
       "dtype: int64"
      ]
     },
     "execution_count": 14,
     "metadata": {},
     "output_type": "execute_result"
    }
   ],
   "source": [
    "type(obj2['a']) # 返回的是一个 numpy类型的值\n",
    "obj2[['b','d']] # 返回的是有2个值的series"
   ]
  },
  {
   "cell_type": "code",
   "execution_count": 16,
   "metadata": {
    "hidden": true
   },
   "outputs": [
    {
     "data": {
      "text/plain": [
       "b     True\n",
       "d     True\n",
       "a    False\n",
       "c     True\n",
       "dtype: bool"
      ]
     },
     "execution_count": 16,
     "metadata": {},
     "output_type": "execute_result"
    }
   ],
   "source": [
    "obj20 = obj2 > 0 # 返回一个bool类型的Series，和np.array很像\n",
    "obj20"
   ]
  },
  {
   "cell_type": "code",
   "execution_count": 17,
   "metadata": {
    "hidden": true
   },
   "outputs": [
    {
     "data": {
      "text/plain": [
       "b    4\n",
       "d    7\n",
       "c    3\n",
       "dtype: int64"
      ]
     },
     "execution_count": 17,
     "metadata": {},
     "output_type": "execute_result"
    }
   ],
   "source": [
    "obj2[obj20]"
   ]
  },
  {
   "cell_type": "code",
   "execution_count": 21,
   "metadata": {
    "hidden": true
   },
   "outputs": [
    {
     "data": {
      "text/plain": [
       "b    2.71875\n",
       "d    2.71875\n",
       "a    1.00000\n",
       "c    2.71875\n",
       "dtype: float16"
      ]
     },
     "execution_count": 21,
     "metadata": {},
     "output_type": "execute_result"
    }
   ],
   "source": [
    "np.exp(obj20) # 求以自然数e为底，以obj2为幂的指数"
   ]
  },
  {
   "cell_type": "code",
   "execution_count": 23,
   "metadata": {
    "hidden": true
   },
   "outputs": [
    {
     "data": {
      "text/plain": [
       "False"
      ]
     },
     "execution_count": 23,
     "metadata": {},
     "output_type": "execute_result"
    }
   ],
   "source": [
    "'e' in obj2 "
   ]
  },
  {
   "cell_type": "code",
   "execution_count": 33,
   "metadata": {
    "hidden": true
   },
   "outputs": [
    {
     "data": {
      "text/plain": [
       "{'a': 1000, 'c': 200, 'e': 0, 'f': -10}"
      ]
     },
     "execution_count": 33,
     "metadata": {},
     "output_type": "execute_result"
    }
   ],
   "source": [
    "dict1 = {'a':1000,'c':200,'f':-10,'e':0}\n",
    "dict1 # 怎么才能自动输出dict1，就像这行代码也在末尾一样，而不是用print？\n",
    "# Series(dict1) # 输出的Series中元素的顺序固定，因为默认按照索引排序了，虽然dict中的元素是无顺序的"
   ]
  },
  {
   "cell_type": "code",
   "execution_count": 35,
   "metadata": {
    "hidden": true
   },
   "outputs": [
    {
     "data": {
      "text/plain": [
       "c     200.0\n",
       "a    1000.0\n",
       "r       NaN\n",
       "e       0.0\n",
       "dtype: float64"
      ]
     },
     "execution_count": 35,
     "metadata": {},
     "output_type": "execute_result"
    }
   ],
   "source": [
    "states = ['c','a','r','e']\n",
    "obj4 = Series(dict1,index = states) # 这时输出的索引就已经按照states中的顺序排列了\n",
    "obj4"
   ]
  },
  {
   "cell_type": "code",
   "execution_count": 39,
   "metadata": {
    "hidden": true
   },
   "outputs": [
    {
     "data": {
      "text/plain": [
       "c     True\n",
       "a     True\n",
       "r    False\n",
       "e     True\n",
       "dtype: bool"
      ]
     },
     "execution_count": 39,
     "metadata": {},
     "output_type": "execute_result"
    }
   ],
   "source": [
    "obj4.isnull() # 或者：\n",
    "pd.isnull(obj4) # 相反的是：\n",
    "obj4.notnull() # 或者\n",
    "pd.notnull(obj4)"
   ]
  },
  {
   "cell_type": "code",
   "execution_count": 47,
   "metadata": {
    "hidden": true
   },
   "outputs": [
    {
     "data": {
      "text/plain": [
       "a    995.0\n",
       "b      NaN\n",
       "c    203.0\n",
       "d      NaN\n",
       "e      NaN\n",
       "r      NaN\n",
       "dtype: float64"
      ]
     },
     "execution_count": 47,
     "metadata": {},
     "output_type": "execute_result"
    }
   ],
   "source": [
    "obj4 + obj2 # 返回的 Series已经按照索引排序了"
   ]
  },
  {
   "cell_type": "code",
   "execution_count": 49,
   "metadata": {
    "hidden": true
   },
   "outputs": [
    {
     "data": {
      "text/plain": [
       "states\n",
       "c     200.0\n",
       "a    1000.0\n",
       "r       NaN\n",
       "e       0.0\n",
       "Name: population, dtype: float64"
      ]
     },
     "execution_count": 49,
     "metadata": {},
     "output_type": "execute_result"
    }
   ],
   "source": [
    "obj4.name = 'population'\n",
    "obj4.index.name = 'states'\n",
    "obj4"
   ]
  },
  {
   "cell_type": "markdown",
   "metadata": {},
   "source": [
    "# DataFrame"
   ]
  },
  {
   "cell_type": "markdown",
   "metadata": {
    "heading_collapsed": true
   },
   "source": [
    "## 基本"
   ]
  },
  {
   "cell_type": "code",
   "execution_count": 53,
   "metadata": {
    "hidden": true
   },
   "outputs": [
    {
     "data": {
      "text/plain": [
       "{'pop': [1.5, 1.6, 1.7],\n",
       " 'state': ['ohio', 'ohio', 'nevada'],\n",
       " 'year': [2001, 2001, 2000]}"
      ]
     },
     "execution_count": 53,
     "metadata": {},
     "output_type": "execute_result"
    }
   ],
   "source": [
    "data = {'state':['ohio','ohio','nevada'],\n",
    "        'year':[2001,2001,2000],\n",
    "        'pop':[1.5,1.6,1.7]}\n",
    "data # 理论上data中元素没有顺序，但实际上在jupyter中out出来是有顺序的"
   ]
  },
  {
   "cell_type": "code",
   "execution_count": 78,
   "metadata": {
    "hidden": true
   },
   "outputs": [
    {
     "data": {
      "text/html": [
       "<div>\n",
       "<style>\n",
       "    .dataframe thead tr:only-child th {\n",
       "        text-align: right;\n",
       "    }\n",
       "\n",
       "    .dataframe thead th {\n",
       "        text-align: left;\n",
       "    }\n",
       "\n",
       "    .dataframe tbody tr th {\n",
       "        vertical-align: top;\n",
       "    }\n",
       "</style>\n",
       "<table border=\"1\" class=\"dataframe\">\n",
       "  <thead>\n",
       "    <tr style=\"text-align: right;\">\n",
       "      <th></th>\n",
       "      <th>pop</th>\n",
       "      <th>state</th>\n",
       "      <th>year</th>\n",
       "    </tr>\n",
       "    <tr>\n",
       "      <th>id</th>\n",
       "      <th></th>\n",
       "      <th></th>\n",
       "      <th></th>\n",
       "    </tr>\n",
       "  </thead>\n",
       "  <tbody>\n",
       "    <tr>\n",
       "      <th>0</th>\n",
       "      <td>1.5</td>\n",
       "      <td>ohio</td>\n",
       "      <td>2001</td>\n",
       "    </tr>\n",
       "    <tr>\n",
       "      <th>1</th>\n",
       "      <td>1.6</td>\n",
       "      <td>ohio</td>\n",
       "      <td>2001</td>\n",
       "    </tr>\n",
       "    <tr>\n",
       "      <th>2</th>\n",
       "      <td>1.7</td>\n",
       "      <td>nevada</td>\n",
       "      <td>2000</td>\n",
       "    </tr>\n",
       "  </tbody>\n",
       "</table>\n",
       "</div>"
      ],
      "text/plain": [
       "    pop   state  year\n",
       "id                   \n",
       "0   1.5    ohio  2001\n",
       "1   1.6    ohio  2001\n",
       "2   1.7  nevada  2000"
      ]
     },
     "execution_count": 78,
     "metadata": {},
     "output_type": "execute_result"
    }
   ],
   "source": [
    "df1 = DataFrame(data)\n",
    "df1.index.name = 'id' # 这个方法同Series\n",
    "df1.name = 'American' # 也有这个方法，但是没有显示出来\n",
    "df1 # 同样的生成的DF的列是有顺序的，而且还和上面data输出的顺序一致"
   ]
  },
  {
   "cell_type": "code",
   "execution_count": 54,
   "metadata": {
    "hidden": true
   },
   "outputs": [
    {
     "data": {
      "text/html": [
       "<div>\n",
       "<style>\n",
       "    .dataframe thead tr:only-child th {\n",
       "        text-align: right;\n",
       "    }\n",
       "\n",
       "    .dataframe thead th {\n",
       "        text-align: left;\n",
       "    }\n",
       "\n",
       "    .dataframe tbody tr th {\n",
       "        vertical-align: top;\n",
       "    }\n",
       "</style>\n",
       "<table border=\"1\" class=\"dataframe\">\n",
       "  <thead>\n",
       "    <tr style=\"text-align: right;\">\n",
       "      <th></th>\n",
       "      <th>year</th>\n",
       "      <th>pop</th>\n",
       "      <th>state</th>\n",
       "    </tr>\n",
       "  </thead>\n",
       "  <tbody>\n",
       "    <tr>\n",
       "      <th>one</th>\n",
       "      <td>2001</td>\n",
       "      <td>1.5</td>\n",
       "      <td>ohio</td>\n",
       "    </tr>\n",
       "    <tr>\n",
       "      <th>two</th>\n",
       "      <td>2001</td>\n",
       "      <td>1.6</td>\n",
       "      <td>ohio</td>\n",
       "    </tr>\n",
       "    <tr>\n",
       "      <th>there</th>\n",
       "      <td>2000</td>\n",
       "      <td>1.7</td>\n",
       "      <td>nevada</td>\n",
       "    </tr>\n",
       "  </tbody>\n",
       "</table>\n",
       "</div>"
      ],
      "text/plain": [
       "       year  pop   state\n",
       "one    2001  1.5    ohio\n",
       "two    2001  1.6    ohio\n",
       "there  2000  1.7  nevada"
      ]
     },
     "execution_count": 54,
     "metadata": {},
     "output_type": "execute_result"
    }
   ],
   "source": [
    "df2 = DataFrame(data,columns = ['year','pop','state'],\n",
    "               index = ['one','two','there'],\n",
    "                )  \n",
    "df2 # 不要用print，因为out的表很丑"
   ]
  },
  {
   "cell_type": "code",
   "execution_count": 55,
   "metadata": {
    "hidden": true
   },
   "outputs": [
    {
     "data": {
      "text/plain": [
       "one      1.5\n",
       "two      1.6\n",
       "there    1.7\n",
       "Name: pop, dtype: float64"
      ]
     },
     "execution_count": 55,
     "metadata": {},
     "output_type": "execute_result"
    },
    {
     "data": {
      "text/plain": [
       "one      2001\n",
       "two      2001\n",
       "there    2000\n",
       "Name: year, dtype: int64"
      ]
     },
     "execution_count": 55,
     "metadata": {},
     "output_type": "execute_result"
    }
   ],
   "source": [
    "df2['pop'] # 也可以用\n",
    "df2.year # 不能用.pop这个方法，因为内置的有这个方法：用于删除相应的数据，并返回被删除的数据"
   ]
  },
  {
   "cell_type": "code",
   "execution_count": 94,
   "metadata": {
    "hidden": true
   },
   "outputs": [
    {
     "data": {
      "text/plain": [
       "one      2001\n",
       "two      2001\n",
       "there    2000\n",
       "Name: year, dtype: int64"
      ]
     },
     "execution_count": 94,
     "metadata": {},
     "output_type": "execute_result"
    }
   ],
   "source": [
    "df2.pop('year')"
   ]
  },
  {
   "cell_type": "code",
   "execution_count": 95,
   "metadata": {
    "hidden": true
   },
   "outputs": [
    {
     "data": {
      "text/html": [
       "<div>\n",
       "<style>\n",
       "    .dataframe thead tr:only-child th {\n",
       "        text-align: right;\n",
       "    }\n",
       "\n",
       "    .dataframe thead th {\n",
       "        text-align: left;\n",
       "    }\n",
       "\n",
       "    .dataframe tbody tr th {\n",
       "        vertical-align: top;\n",
       "    }\n",
       "</style>\n",
       "<table border=\"1\" class=\"dataframe\">\n",
       "  <thead>\n",
       "    <tr style=\"text-align: right;\">\n",
       "      <th></th>\n",
       "      <th>pop</th>\n",
       "      <th>state</th>\n",
       "    </tr>\n",
       "  </thead>\n",
       "  <tbody>\n",
       "    <tr>\n",
       "      <th>one</th>\n",
       "      <td>1.5</td>\n",
       "      <td>ohio</td>\n",
       "    </tr>\n",
       "    <tr>\n",
       "      <th>two</th>\n",
       "      <td>1.6</td>\n",
       "      <td>ohio</td>\n",
       "    </tr>\n",
       "    <tr>\n",
       "      <th>there</th>\n",
       "      <td>1.7</td>\n",
       "      <td>nevada</td>\n",
       "    </tr>\n",
       "  </tbody>\n",
       "</table>\n",
       "</div>"
      ],
      "text/plain": [
       "       pop   state\n",
       "one    1.5    ohio\n",
       "two    1.6    ohio\n",
       "there  1.7  nevada"
      ]
     },
     "execution_count": 95,
     "metadata": {},
     "output_type": "execute_result"
    }
   ],
   "source": [
    "df2"
   ]
  },
  {
   "cell_type": "code",
   "execution_count": 97,
   "metadata": {
    "hidden": true
   },
   "outputs": [
    {
     "data": {
      "text/html": [
       "<div>\n",
       "<style>\n",
       "    .dataframe thead tr:only-child th {\n",
       "        text-align: right;\n",
       "    }\n",
       "\n",
       "    .dataframe thead th {\n",
       "        text-align: left;\n",
       "    }\n",
       "\n",
       "    .dataframe tbody tr th {\n",
       "        vertical-align: top;\n",
       "    }\n",
       "</style>\n",
       "<table border=\"1\" class=\"dataframe\">\n",
       "  <thead>\n",
       "    <tr style=\"text-align: right;\">\n",
       "      <th></th>\n",
       "      <th>pop</th>\n",
       "      <th>state</th>\n",
       "      <th>id</th>\n",
       "    </tr>\n",
       "  </thead>\n",
       "  <tbody>\n",
       "    <tr>\n",
       "      <th>one</th>\n",
       "      <td>1.5</td>\n",
       "      <td>ohio</td>\n",
       "      <td>0</td>\n",
       "    </tr>\n",
       "    <tr>\n",
       "      <th>two</th>\n",
       "      <td>1.6</td>\n",
       "      <td>ohio</td>\n",
       "      <td>1</td>\n",
       "    </tr>\n",
       "    <tr>\n",
       "      <th>there</th>\n",
       "      <td>1.7</td>\n",
       "      <td>nevada</td>\n",
       "      <td>2</td>\n",
       "    </tr>\n",
       "  </tbody>\n",
       "</table>\n",
       "</div>"
      ],
      "text/plain": [
       "       pop   state  id\n",
       "one    1.5    ohio   0\n",
       "two    1.6    ohio   1\n",
       "there  1.7  nevada   2"
      ]
     },
     "execution_count": 97,
     "metadata": {},
     "output_type": "execute_result"
    }
   ],
   "source": [
    "df2['id'] = np.arange(len(df2)) # 直接增加id这一列，很方便\n",
    "df2"
   ]
  },
  {
   "cell_type": "code",
   "execution_count": 102,
   "metadata": {
    "hidden": true
   },
   "outputs": [
    {
     "data": {
      "text/html": [
       "<div>\n",
       "<style>\n",
       "    .dataframe thead tr:only-child th {\n",
       "        text-align: right;\n",
       "    }\n",
       "\n",
       "    .dataframe thead th {\n",
       "        text-align: left;\n",
       "    }\n",
       "\n",
       "    .dataframe tbody tr th {\n",
       "        vertical-align: top;\n",
       "    }\n",
       "</style>\n",
       "<table border=\"1\" class=\"dataframe\">\n",
       "  <thead>\n",
       "    <tr style=\"text-align: right;\">\n",
       "      <th></th>\n",
       "      <th>pop</th>\n",
       "      <th>state</th>\n",
       "      <th>id</th>\n",
       "    </tr>\n",
       "  </thead>\n",
       "  <tbody>\n",
       "    <tr>\n",
       "      <th>one</th>\n",
       "      <td>1.5</td>\n",
       "      <td>ohio</td>\n",
       "      <td>0</td>\n",
       "    </tr>\n",
       "    <tr>\n",
       "      <th>two</th>\n",
       "      <td>1.6</td>\n",
       "      <td>ohio</td>\n",
       "      <td>1</td>\n",
       "    </tr>\n",
       "    <tr>\n",
       "      <th>there</th>\n",
       "      <td>1.7</td>\n",
       "      <td>nevada</td>\n",
       "      <td>2</td>\n",
       "    </tr>\n",
       "  </tbody>\n",
       "</table>\n",
       "</div>"
      ],
      "text/plain": [
       "       pop   state  id\n",
       "one    1.5    ohio   0\n",
       "two    1.6    ohio   1\n",
       "there  1.7  nevada   2"
      ]
     },
     "execution_count": 102,
     "metadata": {},
     "output_type": "execute_result"
    }
   ],
   "source": [
    "df2['test'] = df2['pop'] + df2['id'] > 1.6\n",
    "del df2['test']\n",
    "df2"
   ]
  },
  {
   "cell_type": "code",
   "execution_count": 105,
   "metadata": {
    "hidden": true
   },
   "outputs": [
    {
     "data": {
      "text/html": [
       "<div>\n",
       "<style>\n",
       "    .dataframe thead tr:only-child th {\n",
       "        text-align: right;\n",
       "    }\n",
       "\n",
       "    .dataframe thead th {\n",
       "        text-align: left;\n",
       "    }\n",
       "\n",
       "    .dataframe tbody tr th {\n",
       "        vertical-align: top;\n",
       "    }\n",
       "</style>\n",
       "<table border=\"1\" class=\"dataframe\">\n",
       "  <thead>\n",
       "    <tr style=\"text-align: right;\">\n",
       "      <th></th>\n",
       "      <th>nevada</th>\n",
       "      <th>steven</th>\n",
       "    </tr>\n",
       "  </thead>\n",
       "  <tbody>\n",
       "    <tr>\n",
       "      <th>2001</th>\n",
       "      <td>2.4</td>\n",
       "      <td>2.1</td>\n",
       "    </tr>\n",
       "    <tr>\n",
       "      <th>2002</th>\n",
       "      <td>1.3</td>\n",
       "      <td>1.4</td>\n",
       "    </tr>\n",
       "    <tr>\n",
       "      <th>2003</th>\n",
       "      <td>1.9</td>\n",
       "      <td>NaN</td>\n",
       "    </tr>\n",
       "    <tr>\n",
       "      <th>2004</th>\n",
       "      <td>NaN</td>\n",
       "      <td>2.0</td>\n",
       "    </tr>\n",
       "  </tbody>\n",
       "</table>\n",
       "</div>"
      ],
      "text/plain": [
       "      nevada  steven\n",
       "2001     2.4     2.1\n",
       "2002     1.3     1.4\n",
       "2003     1.9     NaN\n",
       "2004     NaN     2.0"
      ]
     },
     "execution_count": 105,
     "metadata": {},
     "output_type": "execute_result"
    }
   ],
   "source": [
    "data2 = {'nevada':{2001:2.4,2002:1.3,2003:1.9},\n",
    "         'steven':{2001:2.1,2002:1.4,2004:2.0}}\n",
    "df3 = DataFrame(data2) # 瞬间感觉这里像 mongoDB了，之前还感觉像关系型数据库\n",
    "df3"
   ]
  },
  {
   "cell_type": "code",
   "execution_count": 113,
   "metadata": {
    "hidden": true
   },
   "outputs": [
    {
     "data": {
      "text/html": [
       "<div>\n",
       "<style>\n",
       "    .dataframe thead tr:only-child th {\n",
       "        text-align: right;\n",
       "    }\n",
       "\n",
       "    .dataframe thead th {\n",
       "        text-align: left;\n",
       "    }\n",
       "\n",
       "    .dataframe tbody tr th {\n",
       "        vertical-align: top;\n",
       "    }\n",
       "</style>\n",
       "<table border=\"1\" class=\"dataframe\">\n",
       "  <thead>\n",
       "    <tr style=\"text-align: right;\">\n",
       "      <th></th>\n",
       "      <th>2001</th>\n",
       "      <th>2002</th>\n",
       "      <th>2003</th>\n",
       "      <th>2004</th>\n",
       "    </tr>\n",
       "  </thead>\n",
       "  <tbody>\n",
       "    <tr>\n",
       "      <th>nevada</th>\n",
       "      <td>2.4</td>\n",
       "      <td>1.3</td>\n",
       "      <td>1.9</td>\n",
       "      <td>NaN</td>\n",
       "    </tr>\n",
       "    <tr>\n",
       "      <th>steven</th>\n",
       "      <td>2.1</td>\n",
       "      <td>1.4</td>\n",
       "      <td>NaN</td>\n",
       "      <td>2.0</td>\n",
       "    </tr>\n",
       "  </tbody>\n",
       "</table>\n",
       "</div>"
      ],
      "text/plain": [
       "        2001  2002  2003  2004\n",
       "nevada   2.4   1.3   1.9   NaN\n",
       "steven   2.1   1.4   NaN   2.0"
      ]
     },
     "execution_count": 113,
     "metadata": {},
     "output_type": "execute_result"
    }
   ],
   "source": [
    "df3.transpose() # 和np.array.transpose不一样的是括号内不需要再输入axis。也可以用\n",
    "df3.T"
   ]
  },
  {
   "cell_type": "code",
   "execution_count": 116,
   "metadata": {
    "hidden": true
   },
   "outputs": [
    {
     "data": {
      "text/html": [
       "<div>\n",
       "<style>\n",
       "    .dataframe thead tr:only-child th {\n",
       "        text-align: right;\n",
       "    }\n",
       "\n",
       "    .dataframe thead th {\n",
       "        text-align: left;\n",
       "    }\n",
       "\n",
       "    .dataframe tbody tr th {\n",
       "        vertical-align: top;\n",
       "    }\n",
       "</style>\n",
       "<table border=\"1\" class=\"dataframe\">\n",
       "  <thead>\n",
       "    <tr style=\"text-align: right;\">\n",
       "      <th></th>\n",
       "      <th>nevada</th>\n",
       "      <th>steven</th>\n",
       "    </tr>\n",
       "  </thead>\n",
       "  <tbody>\n",
       "    <tr>\n",
       "      <th>2001</th>\n",
       "      <td>2.4</td>\n",
       "      <td>2.1</td>\n",
       "    </tr>\n",
       "    <tr>\n",
       "      <th>2002</th>\n",
       "      <td>1.3</td>\n",
       "      <td>1.4</td>\n",
       "    </tr>\n",
       "    <tr>\n",
       "      <th>2003</th>\n",
       "      <td>1.9</td>\n",
       "      <td>NaN</td>\n",
       "    </tr>\n",
       "  </tbody>\n",
       "</table>\n",
       "</div>"
      ],
      "text/plain": [
       "      nevada  steven\n",
       "2001     2.4     2.1\n",
       "2002     1.3     1.4\n",
       "2003     1.9     NaN"
      ]
     },
     "execution_count": 116,
     "metadata": {},
     "output_type": "execute_result"
    }
   ],
   "source": [
    "df3 = DataFrame(data2,index = [2001,2002,2003])\n",
    "df3"
   ]
  },
  {
   "cell_type": "code",
   "execution_count": 126,
   "metadata": {
    "hidden": true
   },
   "outputs": [
    {
     "data": {
      "text/html": [
       "<div>\n",
       "<style>\n",
       "    .dataframe thead tr:only-child th {\n",
       "        text-align: right;\n",
       "    }\n",
       "\n",
       "    .dataframe thead th {\n",
       "        text-align: left;\n",
       "    }\n",
       "\n",
       "    .dataframe tbody tr th {\n",
       "        vertical-align: top;\n",
       "    }\n",
       "</style>\n",
       "<table border=\"1\" class=\"dataframe\">\n",
       "  <thead>\n",
       "    <tr style=\"text-align: right;\">\n",
       "      <th>state</th>\n",
       "      <th>ohio</th>\n",
       "      <th>steve</th>\n",
       "    </tr>\n",
       "    <tr>\n",
       "      <th>year</th>\n",
       "      <th></th>\n",
       "      <th></th>\n",
       "    </tr>\n",
       "  </thead>\n",
       "  <tbody>\n",
       "    <tr>\n",
       "      <th>2001</th>\n",
       "      <td>2.4</td>\n",
       "      <td>2.1</td>\n",
       "    </tr>\n",
       "    <tr>\n",
       "      <th>2002</th>\n",
       "      <td>1.3</td>\n",
       "      <td>NaN</td>\n",
       "    </tr>\n",
       "  </tbody>\n",
       "</table>\n",
       "</div>"
      ],
      "text/plain": [
       "state  ohio  steve\n",
       "year              \n",
       "2001    2.4    2.1\n",
       "2002    1.3    NaN"
      ]
     },
     "execution_count": 126,
     "metadata": {},
     "output_type": "execute_result"
    }
   ],
   "source": [
    "data3 = {'ohio':df3['nevada'][:2],\n",
    "         'steve':df3['steven'][:-2]}\n",
    "df4 = DataFrame(data3)\n",
    "df4.index.name = 'year';df4.columns.name = 'state'\n",
    "df4"
   ]
  },
  {
   "cell_type": "code",
   "execution_count": 133,
   "metadata": {
    "hidden": true
   },
   "outputs": [
    {
     "data": {
      "text/plain": [
       "array([[2001, 1.5, 'ohio'],\n",
       "       [2001, 1.6, 'ohio'],\n",
       "       [2000, 1.7, 'nevada']], dtype=object)"
      ]
     },
     "execution_count": 133,
     "metadata": {},
     "output_type": "execute_result"
    }
   ],
   "source": [
    "df2.values"
   ]
  },
  {
   "cell_type": "markdown",
   "metadata": {},
   "source": [
    "## index objects"
   ]
  },
  {
   "cell_type": "code",
   "execution_count": 136,
   "metadata": {
    "collapsed": true
   },
   "outputs": [],
   "source": [
    "obj = Series(range(3),index = ['a','b','c'])\n",
    "idex1 = obj.index # 行索引、列索引更像是set，所以对它的操作(也必须是index)就清晰了"
   ]
  },
  {
   "cell_type": "code",
   "execution_count": 150,
   "metadata": {},
   "outputs": [
    {
     "data": {
      "text/plain": [
       "True"
      ]
     },
     "execution_count": 150,
     "metadata": {},
     "output_type": "execute_result"
    }
   ],
   "source": [
    "labels = pd.Index(range(3))\n",
    "obj5 = Series([1.3,1.5,1.9],index = labels)\n",
    "obj5.index is labels # == 返回的是bool值组成的array数组，而is相当于下面这样\n",
    "(obj5.index == labels).all()"
   ]
  },
  {
   "cell_type": "code",
   "execution_count": 152,
   "metadata": {},
   "outputs": [
    {
     "data": {
      "text/plain": [
       "False"
      ]
     },
     "execution_count": 152,
     "metadata": {},
     "output_type": "execute_result"
    }
   ],
   "source": [
    "'20' in idex1"
   ]
  },
  {
   "cell_type": "code",
   "execution_count": 166,
   "metadata": {},
   "outputs": [
    {
     "data": {
      "text/plain": [
       "False"
      ]
     },
     "execution_count": 166,
     "metadata": {},
     "output_type": "execute_result"
    }
   ],
   "source": [
    "idex2 = idex1.append(pd.Index(['d']))\n",
    "idex1 is idex2"
   ]
  },
  {
   "cell_type": "code",
   "execution_count": 168,
   "metadata": {},
   "outputs": [
    {
     "data": {
      "text/plain": [
       "0    1.3\n",
       "b    NaN\n",
       "c    NaN\n",
       "dtype: float64"
      ]
     },
     "execution_count": 168,
     "metadata": {},
     "output_type": "execute_result"
    }
   ],
   "source": [
    "obj5.reindex([0,'b','c'])"
   ]
  },
  {
   "cell_type": "code",
   "execution_count": 51,
   "metadata": {},
   "outputs": [
    {
     "data": {
      "text/html": [
       "<div>\n",
       "<style>\n",
       "    .dataframe thead tr:only-child th {\n",
       "        text-align: right;\n",
       "    }\n",
       "\n",
       "    .dataframe thead th {\n",
       "        text-align: left;\n",
       "    }\n",
       "\n",
       "    .dataframe tbody tr th {\n",
       "        vertical-align: top;\n",
       "    }\n",
       "</style>\n",
       "<table border=\"1\" class=\"dataframe\">\n",
       "  <thead>\n",
       "    <tr style=\"text-align: right;\">\n",
       "      <th></th>\n",
       "      <th>ohio</th>\n",
       "      <th>california</th>\n",
       "      <th>texas</th>\n",
       "    </tr>\n",
       "  </thead>\n",
       "  <tbody>\n",
       "    <tr>\n",
       "      <th>a</th>\n",
       "      <td>0.0</td>\n",
       "      <td>2.0</td>\n",
       "      <td>1.0</td>\n",
       "    </tr>\n",
       "    <tr>\n",
       "      <th>ohio</th>\n",
       "      <td>6.0</td>\n",
       "      <td>8.0</td>\n",
       "      <td>7.0</td>\n",
       "    </tr>\n",
       "    <tr>\n",
       "      <th>c</th>\n",
       "      <td>3.0</td>\n",
       "      <td>5.0</td>\n",
       "      <td>4.0</td>\n",
       "    </tr>\n",
       "    <tr>\n",
       "      <th>d</th>\n",
       "      <td>NaN</td>\n",
       "      <td>NaN</td>\n",
       "      <td>NaN</td>\n",
       "    </tr>\n",
       "    <tr>\n",
       "      <th>e</th>\n",
       "      <td>NaN</td>\n",
       "      <td>NaN</td>\n",
       "      <td>NaN</td>\n",
       "    </tr>\n",
       "    <tr>\n",
       "      <th>f</th>\n",
       "      <td>NaN</td>\n",
       "      <td>NaN</td>\n",
       "      <td>NaN</td>\n",
       "    </tr>\n",
       "    <tr>\n",
       "      <th>g</th>\n",
       "      <td>NaN</td>\n",
       "      <td>NaN</td>\n",
       "      <td>NaN</td>\n",
       "    </tr>\n",
       "    <tr>\n",
       "      <th>h</th>\n",
       "      <td>NaN</td>\n",
       "      <td>NaN</td>\n",
       "      <td>NaN</td>\n",
       "    </tr>\n",
       "    <tr>\n",
       "      <th>i</th>\n",
       "      <td>NaN</td>\n",
       "      <td>NaN</td>\n",
       "      <td>NaN</td>\n",
       "    </tr>\n",
       "  </tbody>\n",
       "</table>\n",
       "</div>"
      ],
      "text/plain": [
       "      ohio  california  texas\n",
       "a      0.0         2.0    1.0\n",
       "ohio   6.0         8.0    7.0\n",
       "c      3.0         5.0    4.0\n",
       "d      NaN         NaN    NaN\n",
       "e      NaN         NaN    NaN\n",
       "f      NaN         NaN    NaN\n",
       "g      NaN         NaN    NaN\n",
       "h      NaN         NaN    NaN\n",
       "i      NaN         NaN    NaN"
      ]
     },
     "execution_count": 51,
     "metadata": {},
     "output_type": "execute_result"
    }
   ],
   "source": [
    "df7 = DataFrame(np.arange(9).reshape((3,3)),\n",
    "                index = ['a','c','ohio'],\n",
    "                columns = ['ohio','texas','california'])\n",
    "df7.reindex(index = ['a','ohio','c','d','e','f','g','h','i'],\n",
    "            columns = ['ohio','california','texas'],\n",
    "            #method = 'bfill', # 如果行列中都有要新填充的，就不能用这个method\n",
    "            fill_value = np.nan,\n",
    "           copy = True,\n",
    "           limit = 10) # ffill 向前填充，bfill向后填充\n",
    "# reindex 创建了一个新对象，不改变原对象"
   ]
  },
  {
   "cell_type": "code",
   "execution_count": 21,
   "metadata": {
    "collapsed": true
   },
   "outputs": [],
   "source": [
    "df7.index = pd.Index(['a','c','ohio']) # 不能像列表那样仅更改其中的一个数，如果要改就要全部改掉"
   ]
  },
  {
   "cell_type": "code",
   "execution_count": 217,
   "metadata": {},
   "outputs": [
    {
     "data": {
      "text/plain": [
       "2"
      ]
     },
     "execution_count": 217,
     "metadata": {},
     "output_type": "execute_result"
    }
   ],
   "source": [
    "obj6 = Series(np.arange(5),index = ['a','b','c','d','e'])\n",
    "new_obj = obj6.pop('c') # 在原址上操作,删除c这行,并且返回被删除的行c\n",
    "new_obj"
   ]
  },
  {
   "cell_type": "code",
   "execution_count": 216,
   "metadata": {
    "collapsed": true
   },
   "outputs": [],
   "source": [
    "obj6.drop('d',inplace = True) # 和上面实现的结果一致，但是默认inplace=False"
   ]
  },
  {
   "cell_type": "code",
   "execution_count": 213,
   "metadata": {},
   "outputs": [
    {
     "data": {
      "text/plain": [
       "a    0\n",
       "b    1\n",
       "e    4\n",
       "dtype: int32"
      ]
     },
     "execution_count": 213,
     "metadata": {},
     "output_type": "execute_result"
    }
   ],
   "source": [
    "obj6"
   ]
  },
  {
   "cell_type": "code",
   "execution_count": 194,
   "metadata": {},
   "outputs": [
    {
     "data": {
      "text/plain": [
       "a       0\n",
       "c       3\n",
       "ohio    6\n",
       "Name: ohio, dtype: int32"
      ]
     },
     "execution_count": 194,
     "metadata": {},
     "output_type": "execute_result"
    }
   ],
   "source": [
    "df7.pop('ohio') # 在列上操作,返回被删除的数据"
   ]
  },
  {
   "cell_type": "code",
   "execution_count": 59,
   "metadata": {},
   "outputs": [
    {
     "data": {
      "text/html": [
       "<div>\n",
       "<style>\n",
       "    .dataframe thead tr:only-child th {\n",
       "        text-align: right;\n",
       "    }\n",
       "\n",
       "    .dataframe thead th {\n",
       "        text-align: left;\n",
       "    }\n",
       "\n",
       "    .dataframe tbody tr th {\n",
       "        vertical-align: top;\n",
       "    }\n",
       "</style>\n",
       "<table border=\"1\" class=\"dataframe\">\n",
       "  <thead>\n",
       "    <tr style=\"text-align: right;\">\n",
       "      <th></th>\n",
       "      <th>texas</th>\n",
       "      <th>california</th>\n",
       "    </tr>\n",
       "  </thead>\n",
       "  <tbody>\n",
       "    <tr>\n",
       "      <th>a</th>\n",
       "      <td>1</td>\n",
       "      <td>2</td>\n",
       "    </tr>\n",
       "    <tr>\n",
       "      <th>c</th>\n",
       "      <td>4</td>\n",
       "      <td>5</td>\n",
       "    </tr>\n",
       "    <tr>\n",
       "      <th>ohio</th>\n",
       "      <td>7</td>\n",
       "      <td>8</td>\n",
       "    </tr>\n",
       "  </tbody>\n",
       "</table>\n",
       "</div>"
      ],
      "text/plain": [
       "      texas  california\n",
       "a         1           2\n",
       "c         4           5\n",
       "ohio      7           8"
      ]
     },
     "execution_count": 59,
     "metadata": {},
     "output_type": "execute_result"
    }
   ],
   "source": [
    "df7.drop(labels = ['ohio'],axis = 1) # 在行上操作，返回删除后的数组(默认非原址) df7的最终结果和上面的操作一样\n",
    "                          # 如果要原址的话，需要设定inplace = True\n",
    "                          # 默认是在行上操作的\n",
    "# DataFrame.drop(labels=None, axis=0, level=None, inplace=False, errors='raise')  "
   ]
  },
  {
   "cell_type": "markdown",
   "metadata": {
    "collapsed": true
   },
   "source": [
    "## pandas.style"
   ]
  },
  {
   "cell_type": "code",
   "execution_count": 2,
   "metadata": {},
   "outputs": [
    {
     "data": {
      "text/html": [
       "<div>\n",
       "<style>\n",
       "    .dataframe thead tr:only-child th {\n",
       "        text-align: right;\n",
       "    }\n",
       "\n",
       "    .dataframe thead th {\n",
       "        text-align: left;\n",
       "    }\n",
       "\n",
       "    .dataframe tbody tr th {\n",
       "        vertical-align: top;\n",
       "    }\n",
       "</style>\n",
       "<table border=\"1\" class=\"dataframe\">\n",
       "  <thead>\n",
       "    <tr style=\"text-align: right;\">\n",
       "      <th></th>\n",
       "      <th>0</th>\n",
       "      <th>1</th>\n",
       "      <th>2</th>\n",
       "      <th>3</th>\n",
       "      <th>4</th>\n",
       "      <th>5</th>\n",
       "      <th>6</th>\n",
       "    </tr>\n",
       "  </thead>\n",
       "  <tbody>\n",
       "    <tr>\n",
       "      <th>0</th>\n",
       "      <td>0.153375</td>\n",
       "      <td>1.150032</td>\n",
       "      <td>-0.127145</td>\n",
       "      <td>0.782154</td>\n",
       "      <td>2.134165</td>\n",
       "      <td>1.389647</td>\n",
       "      <td>0.318714</td>\n",
       "    </tr>\n",
       "    <tr>\n",
       "      <th>1</th>\n",
       "      <td>0.447143</td>\n",
       "      <td>0.225145</td>\n",
       "      <td>0.535606</td>\n",
       "      <td>1.892001</td>\n",
       "      <td>0.091651</td>\n",
       "      <td>0.013733</td>\n",
       "      <td>0.686879</td>\n",
       "    </tr>\n",
       "    <tr>\n",
       "      <th>2</th>\n",
       "      <td>0.487633</td>\n",
       "      <td>0.757918</td>\n",
       "      <td>1.962323</td>\n",
       "      <td>-1.269642</td>\n",
       "      <td>-0.447111</td>\n",
       "      <td>0.944311</td>\n",
       "      <td>-1.523954</td>\n",
       "    </tr>\n",
       "    <tr>\n",
       "      <th>3</th>\n",
       "      <td>0.135916</td>\n",
       "      <td>2.824728</td>\n",
       "      <td>0.698221</td>\n",
       "      <td>-0.181220</td>\n",
       "      <td>-1.983121</td>\n",
       "      <td>0.547549</td>\n",
       "      <td>-0.084368</td>\n",
       "    </tr>\n",
       "  </tbody>\n",
       "</table>\n",
       "</div>"
      ],
      "text/plain": [
       "          0         1         2         3         4         5         6\n",
       "0  0.153375  1.150032 -0.127145  0.782154  2.134165  1.389647  0.318714\n",
       "1  0.447143  0.225145  0.535606  1.892001  0.091651  0.013733  0.686879\n",
       "2  0.487633  0.757918  1.962323 -1.269642 -0.447111  0.944311 -1.523954\n",
       "3  0.135916  2.824728  0.698221 -0.181220 -1.983121  0.547549 -0.084368"
      ]
     },
     "execution_count": 2,
     "metadata": {},
     "output_type": "execute_result"
    }
   ],
   "source": [
    "df = DataFrame(np.random.randn(28).reshape(4,7))\n",
    "df"
   ]
  },
  {
   "cell_type": "code",
   "execution_count": 3,
   "metadata": {
    "collapsed": true
   },
   "outputs": [],
   "source": [
    "def show_color(val):\n",
    "    color = 'red' if val < 0 else 'green'\n",
    "    return 'color:{}'.format(color)"
   ]
  },
  {
   "cell_type": "code",
   "execution_count": 4,
   "metadata": {},
   "outputs": [
    {
     "data": {
      "text/html": [
       "<style  type=\"text/css\" >\n",
       "    #T_4544c300_4372_11e8_a0ab_f859718df11brow0_col0 {\n",
       "            color: green;\n",
       "        }    #T_4544c300_4372_11e8_a0ab_f859718df11brow0_col1 {\n",
       "            color: green;\n",
       "        }    #T_4544c300_4372_11e8_a0ab_f859718df11brow0_col2 {\n",
       "            color: red;\n",
       "        }    #T_4544c300_4372_11e8_a0ab_f859718df11brow0_col3 {\n",
       "            color: green;\n",
       "        }    #T_4544c300_4372_11e8_a0ab_f859718df11brow0_col4 {\n",
       "            color: green;\n",
       "        }    #T_4544c300_4372_11e8_a0ab_f859718df11brow0_col5 {\n",
       "            color: green;\n",
       "        }    #T_4544c300_4372_11e8_a0ab_f859718df11brow0_col6 {\n",
       "            color: green;\n",
       "        }    #T_4544c300_4372_11e8_a0ab_f859718df11brow1_col0 {\n",
       "            color: green;\n",
       "        }    #T_4544c300_4372_11e8_a0ab_f859718df11brow1_col1 {\n",
       "            color: green;\n",
       "        }    #T_4544c300_4372_11e8_a0ab_f859718df11brow1_col2 {\n",
       "            color: green;\n",
       "        }    #T_4544c300_4372_11e8_a0ab_f859718df11brow1_col3 {\n",
       "            color: green;\n",
       "        }    #T_4544c300_4372_11e8_a0ab_f859718df11brow1_col4 {\n",
       "            color: green;\n",
       "        }    #T_4544c300_4372_11e8_a0ab_f859718df11brow1_col5 {\n",
       "            color: green;\n",
       "        }    #T_4544c300_4372_11e8_a0ab_f859718df11brow1_col6 {\n",
       "            color: green;\n",
       "        }    #T_4544c300_4372_11e8_a0ab_f859718df11brow2_col0 {\n",
       "            color: green;\n",
       "        }    #T_4544c300_4372_11e8_a0ab_f859718df11brow2_col1 {\n",
       "            color: green;\n",
       "        }    #T_4544c300_4372_11e8_a0ab_f859718df11brow2_col2 {\n",
       "            color: green;\n",
       "        }    #T_4544c300_4372_11e8_a0ab_f859718df11brow2_col3 {\n",
       "            color: red;\n",
       "        }    #T_4544c300_4372_11e8_a0ab_f859718df11brow2_col4 {\n",
       "            color: red;\n",
       "        }    #T_4544c300_4372_11e8_a0ab_f859718df11brow2_col5 {\n",
       "            color: green;\n",
       "        }    #T_4544c300_4372_11e8_a0ab_f859718df11brow2_col6 {\n",
       "            color: red;\n",
       "        }    #T_4544c300_4372_11e8_a0ab_f859718df11brow3_col0 {\n",
       "            color: green;\n",
       "        }    #T_4544c300_4372_11e8_a0ab_f859718df11brow3_col1 {\n",
       "            color: green;\n",
       "        }    #T_4544c300_4372_11e8_a0ab_f859718df11brow3_col2 {\n",
       "            color: green;\n",
       "        }    #T_4544c300_4372_11e8_a0ab_f859718df11brow3_col3 {\n",
       "            color: red;\n",
       "        }    #T_4544c300_4372_11e8_a0ab_f859718df11brow3_col4 {\n",
       "            color: red;\n",
       "        }    #T_4544c300_4372_11e8_a0ab_f859718df11brow3_col5 {\n",
       "            color: green;\n",
       "        }    #T_4544c300_4372_11e8_a0ab_f859718df11brow3_col6 {\n",
       "            color: red;\n",
       "        }</style>  \n",
       "<table id=\"T_4544c300_4372_11e8_a0ab_f859718df11b\" > \n",
       "<thead>    <tr> \n",
       "        <th class=\"blank level0\" ></th> \n",
       "        <th class=\"col_heading level0 col0\" >0</th> \n",
       "        <th class=\"col_heading level0 col1\" >1</th> \n",
       "        <th class=\"col_heading level0 col2\" >2</th> \n",
       "        <th class=\"col_heading level0 col3\" >3</th> \n",
       "        <th class=\"col_heading level0 col4\" >4</th> \n",
       "        <th class=\"col_heading level0 col5\" >5</th> \n",
       "        <th class=\"col_heading level0 col6\" >6</th> \n",
       "    </tr></thead> \n",
       "<tbody>    <tr> \n",
       "        <th id=\"T_4544c300_4372_11e8_a0ab_f859718df11blevel0_row0\" class=\"row_heading level0 row0\" >0</th> \n",
       "        <td id=\"T_4544c300_4372_11e8_a0ab_f859718df11brow0_col0\" class=\"data row0 col0\" >0.153375</td> \n",
       "        <td id=\"T_4544c300_4372_11e8_a0ab_f859718df11brow0_col1\" class=\"data row0 col1\" >1.15003</td> \n",
       "        <td id=\"T_4544c300_4372_11e8_a0ab_f859718df11brow0_col2\" class=\"data row0 col2\" >-0.127145</td> \n",
       "        <td id=\"T_4544c300_4372_11e8_a0ab_f859718df11brow0_col3\" class=\"data row0 col3\" >0.782154</td> \n",
       "        <td id=\"T_4544c300_4372_11e8_a0ab_f859718df11brow0_col4\" class=\"data row0 col4\" >2.13417</td> \n",
       "        <td id=\"T_4544c300_4372_11e8_a0ab_f859718df11brow0_col5\" class=\"data row0 col5\" >1.38965</td> \n",
       "        <td id=\"T_4544c300_4372_11e8_a0ab_f859718df11brow0_col6\" class=\"data row0 col6\" >0.318714</td> \n",
       "    </tr>    <tr> \n",
       "        <th id=\"T_4544c300_4372_11e8_a0ab_f859718df11blevel0_row1\" class=\"row_heading level0 row1\" >1</th> \n",
       "        <td id=\"T_4544c300_4372_11e8_a0ab_f859718df11brow1_col0\" class=\"data row1 col0\" >0.447143</td> \n",
       "        <td id=\"T_4544c300_4372_11e8_a0ab_f859718df11brow1_col1\" class=\"data row1 col1\" >0.225145</td> \n",
       "        <td id=\"T_4544c300_4372_11e8_a0ab_f859718df11brow1_col2\" class=\"data row1 col2\" >0.535606</td> \n",
       "        <td id=\"T_4544c300_4372_11e8_a0ab_f859718df11brow1_col3\" class=\"data row1 col3\" >1.892</td> \n",
       "        <td id=\"T_4544c300_4372_11e8_a0ab_f859718df11brow1_col4\" class=\"data row1 col4\" >0.0916509</td> \n",
       "        <td id=\"T_4544c300_4372_11e8_a0ab_f859718df11brow1_col5\" class=\"data row1 col5\" >0.0137334</td> \n",
       "        <td id=\"T_4544c300_4372_11e8_a0ab_f859718df11brow1_col6\" class=\"data row1 col6\" >0.686879</td> \n",
       "    </tr>    <tr> \n",
       "        <th id=\"T_4544c300_4372_11e8_a0ab_f859718df11blevel0_row2\" class=\"row_heading level0 row2\" >2</th> \n",
       "        <td id=\"T_4544c300_4372_11e8_a0ab_f859718df11brow2_col0\" class=\"data row2 col0\" >0.487633</td> \n",
       "        <td id=\"T_4544c300_4372_11e8_a0ab_f859718df11brow2_col1\" class=\"data row2 col1\" >0.757918</td> \n",
       "        <td id=\"T_4544c300_4372_11e8_a0ab_f859718df11brow2_col2\" class=\"data row2 col2\" >1.96232</td> \n",
       "        <td id=\"T_4544c300_4372_11e8_a0ab_f859718df11brow2_col3\" class=\"data row2 col3\" >-1.26964</td> \n",
       "        <td id=\"T_4544c300_4372_11e8_a0ab_f859718df11brow2_col4\" class=\"data row2 col4\" >-0.447111</td> \n",
       "        <td id=\"T_4544c300_4372_11e8_a0ab_f859718df11brow2_col5\" class=\"data row2 col5\" >0.944311</td> \n",
       "        <td id=\"T_4544c300_4372_11e8_a0ab_f859718df11brow2_col6\" class=\"data row2 col6\" >-1.52395</td> \n",
       "    </tr>    <tr> \n",
       "        <th id=\"T_4544c300_4372_11e8_a0ab_f859718df11blevel0_row3\" class=\"row_heading level0 row3\" >3</th> \n",
       "        <td id=\"T_4544c300_4372_11e8_a0ab_f859718df11brow3_col0\" class=\"data row3 col0\" >0.135916</td> \n",
       "        <td id=\"T_4544c300_4372_11e8_a0ab_f859718df11brow3_col1\" class=\"data row3 col1\" >2.82473</td> \n",
       "        <td id=\"T_4544c300_4372_11e8_a0ab_f859718df11brow3_col2\" class=\"data row3 col2\" >0.698221</td> \n",
       "        <td id=\"T_4544c300_4372_11e8_a0ab_f859718df11brow3_col3\" class=\"data row3 col3\" >-0.18122</td> \n",
       "        <td id=\"T_4544c300_4372_11e8_a0ab_f859718df11brow3_col4\" class=\"data row3 col4\" >-1.98312</td> \n",
       "        <td id=\"T_4544c300_4372_11e8_a0ab_f859718df11brow3_col5\" class=\"data row3 col5\" >0.547549</td> \n",
       "        <td id=\"T_4544c300_4372_11e8_a0ab_f859718df11brow3_col6\" class=\"data row3 col6\" >-0.0843683</td> \n",
       "    </tr></tbody> \n",
       "</table> "
      ],
      "text/plain": [
       "<pandas.io.formats.style.Styler at 0x23b733a5048>"
      ]
     },
     "execution_count": 4,
     "metadata": {},
     "output_type": "execute_result"
    }
   ],
   "source": [
    "df.style.applymap(show_color) # 对整个工作表适用上面的颜色分类"
   ]
  },
  {
   "cell_type": "code",
   "execution_count": 52,
   "metadata": {},
   "outputs": [
    {
     "data": {
      "text/html": [
       "<style  type=\"text/css\" >\n",
       "    #T_a6f64ef8_4378_11e8_af9f_f859718df11brow0_col1 {\n",
       "            color: green;\n",
       "        }    #T_a6f64ef8_4378_11e8_af9f_f859718df11brow0_col3 {\n",
       "            color: green;\n",
       "        }    #T_a6f64ef8_4378_11e8_af9f_f859718df11brow1_col1 {\n",
       "            color: green;\n",
       "        }    #T_a6f64ef8_4378_11e8_af9f_f859718df11brow1_col3 {\n",
       "            color: green;\n",
       "        }</style>  \n",
       "<table id=\"T_a6f64ef8_4378_11e8_af9f_f859718df11b\" > \n",
       "<thead>    <tr> \n",
       "        <th class=\"blank level0\" ></th> \n",
       "        <th class=\"col_heading level0 col0\" >row_0</th> \n",
       "        <th class=\"col_heading level0 col1\" >row_1</th> \n",
       "        <th class=\"col_heading level0 col2\" >row_2</th> \n",
       "        <th class=\"col_heading level0 col3\" >row_3</th> \n",
       "        <th class=\"col_heading level0 col4\" >row_4</th> \n",
       "        <th class=\"col_heading level0 col5\" >row_5</th> \n",
       "        <th class=\"col_heading level0 col6\" >row_6</th> \n",
       "    </tr></thead> \n",
       "<tbody>    <tr> \n",
       "        <th id=\"T_a6f64ef8_4378_11e8_af9f_f859718df11blevel0_row0\" class=\"row_heading level0 row0\" >0</th> \n",
       "        <td id=\"T_a6f64ef8_4378_11e8_af9f_f859718df11brow0_col0\" class=\"data row0 col0\" >0.153375</td> \n",
       "        <td id=\"T_a6f64ef8_4378_11e8_af9f_f859718df11brow0_col1\" class=\"data row0 col1\" >1.15003</td> \n",
       "        <td id=\"T_a6f64ef8_4378_11e8_af9f_f859718df11brow0_col2\" class=\"data row0 col2\" >-0.127145</td> \n",
       "        <td id=\"T_a6f64ef8_4378_11e8_af9f_f859718df11brow0_col3\" class=\"data row0 col3\" >0.782154</td> \n",
       "        <td id=\"T_a6f64ef8_4378_11e8_af9f_f859718df11brow0_col4\" class=\"data row0 col4\" >2.13417</td> \n",
       "        <td id=\"T_a6f64ef8_4378_11e8_af9f_f859718df11brow0_col5\" class=\"data row0 col5\" >1.38965</td> \n",
       "        <td id=\"T_a6f64ef8_4378_11e8_af9f_f859718df11brow0_col6\" class=\"data row0 col6\" >0.318714</td> \n",
       "    </tr>    <tr> \n",
       "        <th id=\"T_a6f64ef8_4378_11e8_af9f_f859718df11blevel0_row1\" class=\"row_heading level0 row1\" >1</th> \n",
       "        <td id=\"T_a6f64ef8_4378_11e8_af9f_f859718df11brow1_col0\" class=\"data row1 col0\" >0.447143</td> \n",
       "        <td id=\"T_a6f64ef8_4378_11e8_af9f_f859718df11brow1_col1\" class=\"data row1 col1\" >0.225145</td> \n",
       "        <td id=\"T_a6f64ef8_4378_11e8_af9f_f859718df11brow1_col2\" class=\"data row1 col2\" >0.535606</td> \n",
       "        <td id=\"T_a6f64ef8_4378_11e8_af9f_f859718df11brow1_col3\" class=\"data row1 col3\" >1.892</td> \n",
       "        <td id=\"T_a6f64ef8_4378_11e8_af9f_f859718df11brow1_col4\" class=\"data row1 col4\" >0.0916509</td> \n",
       "        <td id=\"T_a6f64ef8_4378_11e8_af9f_f859718df11brow1_col5\" class=\"data row1 col5\" >0.0137334</td> \n",
       "        <td id=\"T_a6f64ef8_4378_11e8_af9f_f859718df11brow1_col6\" class=\"data row1 col6\" >0.686879</td> \n",
       "    </tr>    <tr> \n",
       "        <th id=\"T_a6f64ef8_4378_11e8_af9f_f859718df11blevel0_row2\" class=\"row_heading level0 row2\" >2</th> \n",
       "        <td id=\"T_a6f64ef8_4378_11e8_af9f_f859718df11brow2_col0\" class=\"data row2 col0\" >0.487633</td> \n",
       "        <td id=\"T_a6f64ef8_4378_11e8_af9f_f859718df11brow2_col1\" class=\"data row2 col1\" >0.757918</td> \n",
       "        <td id=\"T_a6f64ef8_4378_11e8_af9f_f859718df11brow2_col2\" class=\"data row2 col2\" >1.96232</td> \n",
       "        <td id=\"T_a6f64ef8_4378_11e8_af9f_f859718df11brow2_col3\" class=\"data row2 col3\" >-1.26964</td> \n",
       "        <td id=\"T_a6f64ef8_4378_11e8_af9f_f859718df11brow2_col4\" class=\"data row2 col4\" >-0.447111</td> \n",
       "        <td id=\"T_a6f64ef8_4378_11e8_af9f_f859718df11brow2_col5\" class=\"data row2 col5\" >0.944311</td> \n",
       "        <td id=\"T_a6f64ef8_4378_11e8_af9f_f859718df11brow2_col6\" class=\"data row2 col6\" >-1.52395</td> \n",
       "    </tr>    <tr> \n",
       "        <th id=\"T_a6f64ef8_4378_11e8_af9f_f859718df11blevel0_row3\" class=\"row_heading level0 row3\" >3</th> \n",
       "        <td id=\"T_a6f64ef8_4378_11e8_af9f_f859718df11brow3_col0\" class=\"data row3 col0\" >0.135916</td> \n",
       "        <td id=\"T_a6f64ef8_4378_11e8_af9f_f859718df11brow3_col1\" class=\"data row3 col1\" >2.82473</td> \n",
       "        <td id=\"T_a6f64ef8_4378_11e8_af9f_f859718df11brow3_col2\" class=\"data row3 col2\" >0.698221</td> \n",
       "        <td id=\"T_a6f64ef8_4378_11e8_af9f_f859718df11brow3_col3\" class=\"data row3 col3\" >-0.18122</td> \n",
       "        <td id=\"T_a6f64ef8_4378_11e8_af9f_f859718df11brow3_col4\" class=\"data row3 col4\" >-1.98312</td> \n",
       "        <td id=\"T_a6f64ef8_4378_11e8_af9f_f859718df11brow3_col5\" class=\"data row3 col5\" >0.547549</td> \n",
       "        <td id=\"T_a6f64ef8_4378_11e8_af9f_f859718df11brow3_col6\" class=\"data row3 col6\" >-0.0843683</td> \n",
       "    </tr></tbody> \n",
       "</table> "
      ],
      "text/plain": [
       "<pandas.io.formats.style.Styler at 0x23b74f6b5c0>"
      ]
     },
     "execution_count": 52,
     "metadata": {},
     "output_type": "execute_result"
    },
    {
     "data": {
      "text/html": [
       "<style  type=\"text/css\" >\n",
       "    #T_a6f76102_4378_11e8_947c_f859718df11brow2_col4 {\n",
       "            color: red;\n",
       "        }    #T_a6f76102_4378_11e8_947c_f859718df11brow3_col4 {\n",
       "            color: red;\n",
       "        }</style>  \n",
       "<table id=\"T_a6f76102_4378_11e8_947c_f859718df11b\" > \n",
       "<thead>    <tr> \n",
       "        <th class=\"blank level0\" ></th> \n",
       "        <th class=\"col_heading level0 col0\" >row_0</th> \n",
       "        <th class=\"col_heading level0 col1\" >row_1</th> \n",
       "        <th class=\"col_heading level0 col2\" >row_2</th> \n",
       "        <th class=\"col_heading level0 col3\" >row_3</th> \n",
       "        <th class=\"col_heading level0 col4\" >row_4</th> \n",
       "        <th class=\"col_heading level0 col5\" >row_5</th> \n",
       "        <th class=\"col_heading level0 col6\" >row_6</th> \n",
       "    </tr></thead> \n",
       "<tbody>    <tr> \n",
       "        <th id=\"T_a6f76102_4378_11e8_947c_f859718df11blevel0_row0\" class=\"row_heading level0 row0\" >0</th> \n",
       "        <td id=\"T_a6f76102_4378_11e8_947c_f859718df11brow0_col0\" class=\"data row0 col0\" >0.153375</td> \n",
       "        <td id=\"T_a6f76102_4378_11e8_947c_f859718df11brow0_col1\" class=\"data row0 col1\" >1.15003</td> \n",
       "        <td id=\"T_a6f76102_4378_11e8_947c_f859718df11brow0_col2\" class=\"data row0 col2\" >-0.127145</td> \n",
       "        <td id=\"T_a6f76102_4378_11e8_947c_f859718df11brow0_col3\" class=\"data row0 col3\" >0.782154</td> \n",
       "        <td id=\"T_a6f76102_4378_11e8_947c_f859718df11brow0_col4\" class=\"data row0 col4\" >2.13417</td> \n",
       "        <td id=\"T_a6f76102_4378_11e8_947c_f859718df11brow0_col5\" class=\"data row0 col5\" >1.38965</td> \n",
       "        <td id=\"T_a6f76102_4378_11e8_947c_f859718df11brow0_col6\" class=\"data row0 col6\" >0.318714</td> \n",
       "    </tr>    <tr> \n",
       "        <th id=\"T_a6f76102_4378_11e8_947c_f859718df11blevel0_row1\" class=\"row_heading level0 row1\" >1</th> \n",
       "        <td id=\"T_a6f76102_4378_11e8_947c_f859718df11brow1_col0\" class=\"data row1 col0\" >0.447143</td> \n",
       "        <td id=\"T_a6f76102_4378_11e8_947c_f859718df11brow1_col1\" class=\"data row1 col1\" >0.225145</td> \n",
       "        <td id=\"T_a6f76102_4378_11e8_947c_f859718df11brow1_col2\" class=\"data row1 col2\" >0.535606</td> \n",
       "        <td id=\"T_a6f76102_4378_11e8_947c_f859718df11brow1_col3\" class=\"data row1 col3\" >1.892</td> \n",
       "        <td id=\"T_a6f76102_4378_11e8_947c_f859718df11brow1_col4\" class=\"data row1 col4\" >0.0916509</td> \n",
       "        <td id=\"T_a6f76102_4378_11e8_947c_f859718df11brow1_col5\" class=\"data row1 col5\" >0.0137334</td> \n",
       "        <td id=\"T_a6f76102_4378_11e8_947c_f859718df11brow1_col6\" class=\"data row1 col6\" >0.686879</td> \n",
       "    </tr>    <tr> \n",
       "        <th id=\"T_a6f76102_4378_11e8_947c_f859718df11blevel0_row2\" class=\"row_heading level0 row2\" >2</th> \n",
       "        <td id=\"T_a6f76102_4378_11e8_947c_f859718df11brow2_col0\" class=\"data row2 col0\" >0.487633</td> \n",
       "        <td id=\"T_a6f76102_4378_11e8_947c_f859718df11brow2_col1\" class=\"data row2 col1\" >0.757918</td> \n",
       "        <td id=\"T_a6f76102_4378_11e8_947c_f859718df11brow2_col2\" class=\"data row2 col2\" >1.96232</td> \n",
       "        <td id=\"T_a6f76102_4378_11e8_947c_f859718df11brow2_col3\" class=\"data row2 col3\" >-1.26964</td> \n",
       "        <td id=\"T_a6f76102_4378_11e8_947c_f859718df11brow2_col4\" class=\"data row2 col4\" >-0.447111</td> \n",
       "        <td id=\"T_a6f76102_4378_11e8_947c_f859718df11brow2_col5\" class=\"data row2 col5\" >0.944311</td> \n",
       "        <td id=\"T_a6f76102_4378_11e8_947c_f859718df11brow2_col6\" class=\"data row2 col6\" >-1.52395</td> \n",
       "    </tr>    <tr> \n",
       "        <th id=\"T_a6f76102_4378_11e8_947c_f859718df11blevel0_row3\" class=\"row_heading level0 row3\" >3</th> \n",
       "        <td id=\"T_a6f76102_4378_11e8_947c_f859718df11brow3_col0\" class=\"data row3 col0\" >0.135916</td> \n",
       "        <td id=\"T_a6f76102_4378_11e8_947c_f859718df11brow3_col1\" class=\"data row3 col1\" >2.82473</td> \n",
       "        <td id=\"T_a6f76102_4378_11e8_947c_f859718df11brow3_col2\" class=\"data row3 col2\" >0.698221</td> \n",
       "        <td id=\"T_a6f76102_4378_11e8_947c_f859718df11brow3_col3\" class=\"data row3 col3\" >-0.18122</td> \n",
       "        <td id=\"T_a6f76102_4378_11e8_947c_f859718df11brow3_col4\" class=\"data row3 col4\" >-1.98312</td> \n",
       "        <td id=\"T_a6f76102_4378_11e8_947c_f859718df11brow3_col5\" class=\"data row3 col5\" >0.547549</td> \n",
       "        <td id=\"T_a6f76102_4378_11e8_947c_f859718df11brow3_col6\" class=\"data row3 col6\" >-0.0843683</td> \n",
       "    </tr></tbody> \n",
       "</table> "
      ],
      "text/plain": [
       "<pandas.io.formats.style.Styler at 0x23b74f6b2b0>"
      ]
     },
     "execution_count": 52,
     "metadata": {},
     "output_type": "execute_result"
    }
   ],
   "source": [
    "df.style.applymap( show_color,subset = pd.IndexSlice[[0,1],['row_1','row_3']] )\n",
    "df.style.applymap( show_color, subset = pd.IndexSlice[[3,2],'row_4'] )"
   ]
  },
  {
   "cell_type": "code",
   "execution_count": 25,
   "metadata": {},
   "outputs": [
    {
     "data": {
      "text/html": [
       "<style  type=\"text/css\" >\n",
       "    #T_d99b68a8_4375_11e8_a767_f859718df11brow0_col0 {\n",
       "            color: green;\n",
       "        }    #T_d99b68a8_4375_11e8_a767_f859718df11brow0_col1 {\n",
       "            color: green;\n",
       "        }    #T_d99b68a8_4375_11e8_a767_f859718df11brow1_col0 {\n",
       "            color: green;\n",
       "        }    #T_d99b68a8_4375_11e8_a767_f859718df11brow1_col1 {\n",
       "            color: green;\n",
       "        }    #T_d99b68a8_4375_11e8_a767_f859718df11brow2_col0 {\n",
       "            color: green;\n",
       "        }    #T_d99b68a8_4375_11e8_a767_f859718df11brow2_col1 {\n",
       "            color: green;\n",
       "        }    #T_d99b68a8_4375_11e8_a767_f859718df11brow3_col0 {\n",
       "            color: green;\n",
       "        }    #T_d99b68a8_4375_11e8_a767_f859718df11brow3_col1 {\n",
       "            color: green;\n",
       "        }</style>  \n",
       "<table id=\"T_d99b68a8_4375_11e8_a767_f859718df11b\" > \n",
       "<thead>    <tr> \n",
       "        <th class=\"blank level0\" ></th> \n",
       "        <th class=\"col_heading level0 col0\" >row_0</th> \n",
       "        <th class=\"col_heading level0 col1\" >row_1</th> \n",
       "        <th class=\"col_heading level0 col2\" >row_2</th> \n",
       "        <th class=\"col_heading level0 col3\" >row_3</th> \n",
       "        <th class=\"col_heading level0 col4\" >row_4</th> \n",
       "        <th class=\"col_heading level0 col5\" >row_5</th> \n",
       "        <th class=\"col_heading level0 col6\" >row_6</th> \n",
       "    </tr></thead> \n",
       "<tbody>    <tr> \n",
       "        <th id=\"T_d99b68a8_4375_11e8_a767_f859718df11blevel0_row0\" class=\"row_heading level0 row0\" >0</th> \n",
       "        <td id=\"T_d99b68a8_4375_11e8_a767_f859718df11brow0_col0\" class=\"data row0 col0\" >0.153375</td> \n",
       "        <td id=\"T_d99b68a8_4375_11e8_a767_f859718df11brow0_col1\" class=\"data row0 col1\" >1.15003</td> \n",
       "        <td id=\"T_d99b68a8_4375_11e8_a767_f859718df11brow0_col2\" class=\"data row0 col2\" >-0.127145</td> \n",
       "        <td id=\"T_d99b68a8_4375_11e8_a767_f859718df11brow0_col3\" class=\"data row0 col3\" >0.782154</td> \n",
       "        <td id=\"T_d99b68a8_4375_11e8_a767_f859718df11brow0_col4\" class=\"data row0 col4\" >2.13417</td> \n",
       "        <td id=\"T_d99b68a8_4375_11e8_a767_f859718df11brow0_col5\" class=\"data row0 col5\" >1.38965</td> \n",
       "        <td id=\"T_d99b68a8_4375_11e8_a767_f859718df11brow0_col6\" class=\"data row0 col6\" >0.318714</td> \n",
       "    </tr>    <tr> \n",
       "        <th id=\"T_d99b68a8_4375_11e8_a767_f859718df11blevel0_row1\" class=\"row_heading level0 row1\" >1</th> \n",
       "        <td id=\"T_d99b68a8_4375_11e8_a767_f859718df11brow1_col0\" class=\"data row1 col0\" >0.447143</td> \n",
       "        <td id=\"T_d99b68a8_4375_11e8_a767_f859718df11brow1_col1\" class=\"data row1 col1\" >0.225145</td> \n",
       "        <td id=\"T_d99b68a8_4375_11e8_a767_f859718df11brow1_col2\" class=\"data row1 col2\" >0.535606</td> \n",
       "        <td id=\"T_d99b68a8_4375_11e8_a767_f859718df11brow1_col3\" class=\"data row1 col3\" >1.892</td> \n",
       "        <td id=\"T_d99b68a8_4375_11e8_a767_f859718df11brow1_col4\" class=\"data row1 col4\" >0.0916509</td> \n",
       "        <td id=\"T_d99b68a8_4375_11e8_a767_f859718df11brow1_col5\" class=\"data row1 col5\" >0.0137334</td> \n",
       "        <td id=\"T_d99b68a8_4375_11e8_a767_f859718df11brow1_col6\" class=\"data row1 col6\" >0.686879</td> \n",
       "    </tr>    <tr> \n",
       "        <th id=\"T_d99b68a8_4375_11e8_a767_f859718df11blevel0_row2\" class=\"row_heading level0 row2\" >2</th> \n",
       "        <td id=\"T_d99b68a8_4375_11e8_a767_f859718df11brow2_col0\" class=\"data row2 col0\" >0.487633</td> \n",
       "        <td id=\"T_d99b68a8_4375_11e8_a767_f859718df11brow2_col1\" class=\"data row2 col1\" >0.757918</td> \n",
       "        <td id=\"T_d99b68a8_4375_11e8_a767_f859718df11brow2_col2\" class=\"data row2 col2\" >1.96232</td> \n",
       "        <td id=\"T_d99b68a8_4375_11e8_a767_f859718df11brow2_col3\" class=\"data row2 col3\" >-1.26964</td> \n",
       "        <td id=\"T_d99b68a8_4375_11e8_a767_f859718df11brow2_col4\" class=\"data row2 col4\" >-0.447111</td> \n",
       "        <td id=\"T_d99b68a8_4375_11e8_a767_f859718df11brow2_col5\" class=\"data row2 col5\" >0.944311</td> \n",
       "        <td id=\"T_d99b68a8_4375_11e8_a767_f859718df11brow2_col6\" class=\"data row2 col6\" >-1.52395</td> \n",
       "    </tr>    <tr> \n",
       "        <th id=\"T_d99b68a8_4375_11e8_a767_f859718df11blevel0_row3\" class=\"row_heading level0 row3\" >3</th> \n",
       "        <td id=\"T_d99b68a8_4375_11e8_a767_f859718df11brow3_col0\" class=\"data row3 col0\" >0.135916</td> \n",
       "        <td id=\"T_d99b68a8_4375_11e8_a767_f859718df11brow3_col1\" class=\"data row3 col1\" >2.82473</td> \n",
       "        <td id=\"T_d99b68a8_4375_11e8_a767_f859718df11brow3_col2\" class=\"data row3 col2\" >0.698221</td> \n",
       "        <td id=\"T_d99b68a8_4375_11e8_a767_f859718df11brow3_col3\" class=\"data row3 col3\" >-0.18122</td> \n",
       "        <td id=\"T_d99b68a8_4375_11e8_a767_f859718df11brow3_col4\" class=\"data row3 col4\" >-1.98312</td> \n",
       "        <td id=\"T_d99b68a8_4375_11e8_a767_f859718df11brow3_col5\" class=\"data row3 col5\" >0.547549</td> \n",
       "        <td id=\"T_d99b68a8_4375_11e8_a767_f859718df11brow3_col6\" class=\"data row3 col6\" >-0.0843683</td> \n",
       "    </tr></tbody> \n",
       "</table> "
      ],
      "text/plain": [
       "<pandas.io.formats.style.Styler at 0x23b74ed5eb8>"
      ]
     },
     "execution_count": 25,
     "metadata": {},
     "output_type": "execute_result"
    }
   ],
   "source": [
    "df = df.add_prefix('row_') \n",
    "df.style.applymap( show_color, subset = ['row_0','row_1'] )"
   ]
  },
  {
   "cell_type": "code",
   "execution_count": 30,
   "metadata": {},
   "outputs": [
    {
     "data": {
      "text/html": [
       "<style  type=\"text/css\" >\n",
       "    #T_9421ef90_4376_11e8_b374_f859718df11brow0_col2 {\n",
       "            background-color: red;\n",
       "        }    #T_9421ef90_4376_11e8_b374_f859718df11brow1_col1 {\n",
       "            background-color: red;\n",
       "        }    #T_9421ef90_4376_11e8_b374_f859718df11brow1_col5 {\n",
       "            background-color: red;\n",
       "        }    #T_9421ef90_4376_11e8_b374_f859718df11brow2_col3 {\n",
       "            background-color: red;\n",
       "        }    #T_9421ef90_4376_11e8_b374_f859718df11brow2_col6 {\n",
       "            background-color: red;\n",
       "        }    #T_9421ef90_4376_11e8_b374_f859718df11brow3_col0 {\n",
       "            background-color: red;\n",
       "        }    #T_9421ef90_4376_11e8_b374_f859718df11brow3_col4 {\n",
       "            background-color: red;\n",
       "        }</style>  \n",
       "<table id=\"T_9421ef90_4376_11e8_b374_f859718df11b\" > \n",
       "<thead>    <tr> \n",
       "        <th class=\"blank level0\" ></th> \n",
       "        <th class=\"col_heading level0 col0\" >row_0</th> \n",
       "        <th class=\"col_heading level0 col1\" >row_1</th> \n",
       "        <th class=\"col_heading level0 col2\" >row_2</th> \n",
       "        <th class=\"col_heading level0 col3\" >row_3</th> \n",
       "        <th class=\"col_heading level0 col4\" >row_4</th> \n",
       "        <th class=\"col_heading level0 col5\" >row_5</th> \n",
       "        <th class=\"col_heading level0 col6\" >row_6</th> \n",
       "    </tr></thead> \n",
       "<tbody>    <tr> \n",
       "        <th id=\"T_9421ef90_4376_11e8_b374_f859718df11blevel0_row0\" class=\"row_heading level0 row0\" >0</th> \n",
       "        <td id=\"T_9421ef90_4376_11e8_b374_f859718df11brow0_col0\" class=\"data row0 col0\" >0.153375</td> \n",
       "        <td id=\"T_9421ef90_4376_11e8_b374_f859718df11brow0_col1\" class=\"data row0 col1\" >1.15003</td> \n",
       "        <td id=\"T_9421ef90_4376_11e8_b374_f859718df11brow0_col2\" class=\"data row0 col2\" >-0.127145</td> \n",
       "        <td id=\"T_9421ef90_4376_11e8_b374_f859718df11brow0_col3\" class=\"data row0 col3\" >0.782154</td> \n",
       "        <td id=\"T_9421ef90_4376_11e8_b374_f859718df11brow0_col4\" class=\"data row0 col4\" >2.13417</td> \n",
       "        <td id=\"T_9421ef90_4376_11e8_b374_f859718df11brow0_col5\" class=\"data row0 col5\" >1.38965</td> \n",
       "        <td id=\"T_9421ef90_4376_11e8_b374_f859718df11brow0_col6\" class=\"data row0 col6\" >0.318714</td> \n",
       "    </tr>    <tr> \n",
       "        <th id=\"T_9421ef90_4376_11e8_b374_f859718df11blevel0_row1\" class=\"row_heading level0 row1\" >1</th> \n",
       "        <td id=\"T_9421ef90_4376_11e8_b374_f859718df11brow1_col0\" class=\"data row1 col0\" >0.447143</td> \n",
       "        <td id=\"T_9421ef90_4376_11e8_b374_f859718df11brow1_col1\" class=\"data row1 col1\" >0.225145</td> \n",
       "        <td id=\"T_9421ef90_4376_11e8_b374_f859718df11brow1_col2\" class=\"data row1 col2\" >0.535606</td> \n",
       "        <td id=\"T_9421ef90_4376_11e8_b374_f859718df11brow1_col3\" class=\"data row1 col3\" >1.892</td> \n",
       "        <td id=\"T_9421ef90_4376_11e8_b374_f859718df11brow1_col4\" class=\"data row1 col4\" >0.0916509</td> \n",
       "        <td id=\"T_9421ef90_4376_11e8_b374_f859718df11brow1_col5\" class=\"data row1 col5\" >0.0137334</td> \n",
       "        <td id=\"T_9421ef90_4376_11e8_b374_f859718df11brow1_col6\" class=\"data row1 col6\" >0.686879</td> \n",
       "    </tr>    <tr> \n",
       "        <th id=\"T_9421ef90_4376_11e8_b374_f859718df11blevel0_row2\" class=\"row_heading level0 row2\" >2</th> \n",
       "        <td id=\"T_9421ef90_4376_11e8_b374_f859718df11brow2_col0\" class=\"data row2 col0\" >0.487633</td> \n",
       "        <td id=\"T_9421ef90_4376_11e8_b374_f859718df11brow2_col1\" class=\"data row2 col1\" >0.757918</td> \n",
       "        <td id=\"T_9421ef90_4376_11e8_b374_f859718df11brow2_col2\" class=\"data row2 col2\" >1.96232</td> \n",
       "        <td id=\"T_9421ef90_4376_11e8_b374_f859718df11brow2_col3\" class=\"data row2 col3\" >-1.26964</td> \n",
       "        <td id=\"T_9421ef90_4376_11e8_b374_f859718df11brow2_col4\" class=\"data row2 col4\" >-0.447111</td> \n",
       "        <td id=\"T_9421ef90_4376_11e8_b374_f859718df11brow2_col5\" class=\"data row2 col5\" >0.944311</td> \n",
       "        <td id=\"T_9421ef90_4376_11e8_b374_f859718df11brow2_col6\" class=\"data row2 col6\" >-1.52395</td> \n",
       "    </tr>    <tr> \n",
       "        <th id=\"T_9421ef90_4376_11e8_b374_f859718df11blevel0_row3\" class=\"row_heading level0 row3\" >3</th> \n",
       "        <td id=\"T_9421ef90_4376_11e8_b374_f859718df11brow3_col0\" class=\"data row3 col0\" >0.135916</td> \n",
       "        <td id=\"T_9421ef90_4376_11e8_b374_f859718df11brow3_col1\" class=\"data row3 col1\" >2.82473</td> \n",
       "        <td id=\"T_9421ef90_4376_11e8_b374_f859718df11brow3_col2\" class=\"data row3 col2\" >0.698221</td> \n",
       "        <td id=\"T_9421ef90_4376_11e8_b374_f859718df11brow3_col3\" class=\"data row3 col3\" >-0.18122</td> \n",
       "        <td id=\"T_9421ef90_4376_11e8_b374_f859718df11brow3_col4\" class=\"data row3 col4\" >-1.98312</td> \n",
       "        <td id=\"T_9421ef90_4376_11e8_b374_f859718df11brow3_col5\" class=\"data row3 col5\" >0.547549</td> \n",
       "        <td id=\"T_9421ef90_4376_11e8_b374_f859718df11brow3_col6\" class=\"data row3 col6\" >-0.0843683</td> \n",
       "    </tr></tbody> \n",
       "</table> "
      ],
      "text/plain": [
       "<pandas.io.formats.style.Styler at 0x23b74f386a0>"
      ]
     },
     "execution_count": 30,
     "metadata": {},
     "output_type": "execute_result"
    }
   ],
   "source": [
    "# 找出每一列中的最小值\n",
    "def show_min_column(val):\n",
    "    c = val == val.min()\n",
    "    return ['background-color:red' if v else '' for v in c ]\n",
    "\n",
    "df.style.apply(show_min_column)"
   ]
  },
  {
   "cell_type": "code",
   "execution_count": 42,
   "metadata": {},
   "outputs": [
    {
     "data": {
      "text/html": [
       "<style  type=\"text/css\" >\n",
       "    #T_f56bcdf8_4377_11e8_80ce_f859718df11brow0_col2 {\n",
       "            background-color:  red;\n",
       "        }    #T_f56bcdf8_4377_11e8_80ce_f859718df11brow1_col1 {\n",
       "            background-color:  red;\n",
       "        }    #T_f56bcdf8_4377_11e8_80ce_f859718df11brow1_col5 {\n",
       "            background-color:  red;\n",
       "        }    #T_f56bcdf8_4377_11e8_80ce_f859718df11brow2_col3 {\n",
       "            background-color:  red;\n",
       "        }    #T_f56bcdf8_4377_11e8_80ce_f859718df11brow2_col6 {\n",
       "            background-color:  red;\n",
       "        }    #T_f56bcdf8_4377_11e8_80ce_f859718df11brow3_col0 {\n",
       "            background-color:  red;\n",
       "        }    #T_f56bcdf8_4377_11e8_80ce_f859718df11brow3_col4 {\n",
       "            background-color:  red;\n",
       "        }</style>  \n",
       "<table id=\"T_f56bcdf8_4377_11e8_80ce_f859718df11b\" > \n",
       "<thead>    <tr> \n",
       "        <th class=\"blank level0\" ></th> \n",
       "        <th class=\"col_heading level0 col0\" >row_0</th> \n",
       "        <th class=\"col_heading level0 col1\" >row_1</th> \n",
       "        <th class=\"col_heading level0 col2\" >row_2</th> \n",
       "        <th class=\"col_heading level0 col3\" >row_3</th> \n",
       "        <th class=\"col_heading level0 col4\" >row_4</th> \n",
       "        <th class=\"col_heading level0 col5\" >row_5</th> \n",
       "        <th class=\"col_heading level0 col6\" >row_6</th> \n",
       "    </tr></thead> \n",
       "<tbody>    <tr> \n",
       "        <th id=\"T_f56bcdf8_4377_11e8_80ce_f859718df11blevel0_row0\" class=\"row_heading level0 row0\" >0</th> \n",
       "        <td id=\"T_f56bcdf8_4377_11e8_80ce_f859718df11brow0_col0\" class=\"data row0 col0\" >0.153375</td> \n",
       "        <td id=\"T_f56bcdf8_4377_11e8_80ce_f859718df11brow0_col1\" class=\"data row0 col1\" >1.15003</td> \n",
       "        <td id=\"T_f56bcdf8_4377_11e8_80ce_f859718df11brow0_col2\" class=\"data row0 col2\" >-0.127145</td> \n",
       "        <td id=\"T_f56bcdf8_4377_11e8_80ce_f859718df11brow0_col3\" class=\"data row0 col3\" >0.782154</td> \n",
       "        <td id=\"T_f56bcdf8_4377_11e8_80ce_f859718df11brow0_col4\" class=\"data row0 col4\" >2.13417</td> \n",
       "        <td id=\"T_f56bcdf8_4377_11e8_80ce_f859718df11brow0_col5\" class=\"data row0 col5\" >1.38965</td> \n",
       "        <td id=\"T_f56bcdf8_4377_11e8_80ce_f859718df11brow0_col6\" class=\"data row0 col6\" >0.318714</td> \n",
       "    </tr>    <tr> \n",
       "        <th id=\"T_f56bcdf8_4377_11e8_80ce_f859718df11blevel0_row1\" class=\"row_heading level0 row1\" >1</th> \n",
       "        <td id=\"T_f56bcdf8_4377_11e8_80ce_f859718df11brow1_col0\" class=\"data row1 col0\" >0.447143</td> \n",
       "        <td id=\"T_f56bcdf8_4377_11e8_80ce_f859718df11brow1_col1\" class=\"data row1 col1\" >0.225145</td> \n",
       "        <td id=\"T_f56bcdf8_4377_11e8_80ce_f859718df11brow1_col2\" class=\"data row1 col2\" >0.535606</td> \n",
       "        <td id=\"T_f56bcdf8_4377_11e8_80ce_f859718df11brow1_col3\" class=\"data row1 col3\" >1.892</td> \n",
       "        <td id=\"T_f56bcdf8_4377_11e8_80ce_f859718df11brow1_col4\" class=\"data row1 col4\" >0.0916509</td> \n",
       "        <td id=\"T_f56bcdf8_4377_11e8_80ce_f859718df11brow1_col5\" class=\"data row1 col5\" >0.0137334</td> \n",
       "        <td id=\"T_f56bcdf8_4377_11e8_80ce_f859718df11brow1_col6\" class=\"data row1 col6\" >0.686879</td> \n",
       "    </tr>    <tr> \n",
       "        <th id=\"T_f56bcdf8_4377_11e8_80ce_f859718df11blevel0_row2\" class=\"row_heading level0 row2\" >2</th> \n",
       "        <td id=\"T_f56bcdf8_4377_11e8_80ce_f859718df11brow2_col0\" class=\"data row2 col0\" >0.487633</td> \n",
       "        <td id=\"T_f56bcdf8_4377_11e8_80ce_f859718df11brow2_col1\" class=\"data row2 col1\" >0.757918</td> \n",
       "        <td id=\"T_f56bcdf8_4377_11e8_80ce_f859718df11brow2_col2\" class=\"data row2 col2\" >1.96232</td> \n",
       "        <td id=\"T_f56bcdf8_4377_11e8_80ce_f859718df11brow2_col3\" class=\"data row2 col3\" >-1.26964</td> \n",
       "        <td id=\"T_f56bcdf8_4377_11e8_80ce_f859718df11brow2_col4\" class=\"data row2 col4\" >-0.447111</td> \n",
       "        <td id=\"T_f56bcdf8_4377_11e8_80ce_f859718df11brow2_col5\" class=\"data row2 col5\" >0.944311</td> \n",
       "        <td id=\"T_f56bcdf8_4377_11e8_80ce_f859718df11brow2_col6\" class=\"data row2 col6\" >-1.52395</td> \n",
       "    </tr>    <tr> \n",
       "        <th id=\"T_f56bcdf8_4377_11e8_80ce_f859718df11blevel0_row3\" class=\"row_heading level0 row3\" >3</th> \n",
       "        <td id=\"T_f56bcdf8_4377_11e8_80ce_f859718df11brow3_col0\" class=\"data row3 col0\" >0.135916</td> \n",
       "        <td id=\"T_f56bcdf8_4377_11e8_80ce_f859718df11brow3_col1\" class=\"data row3 col1\" >2.82473</td> \n",
       "        <td id=\"T_f56bcdf8_4377_11e8_80ce_f859718df11brow3_col2\" class=\"data row3 col2\" >0.698221</td> \n",
       "        <td id=\"T_f56bcdf8_4377_11e8_80ce_f859718df11brow3_col3\" class=\"data row3 col3\" >-0.18122</td> \n",
       "        <td id=\"T_f56bcdf8_4377_11e8_80ce_f859718df11brow3_col4\" class=\"data row3 col4\" >-1.98312</td> \n",
       "        <td id=\"T_f56bcdf8_4377_11e8_80ce_f859718df11brow3_col5\" class=\"data row3 col5\" >0.547549</td> \n",
       "        <td id=\"T_f56bcdf8_4377_11e8_80ce_f859718df11brow3_col6\" class=\"data row3 col6\" >-0.0843683</td> \n",
       "    </tr></tbody> \n",
       "</table> "
      ],
      "text/plain": [
       "<pandas.io.formats.style.Styler at 0x23b74efbf60>"
      ]
     },
     "execution_count": 42,
     "metadata": {},
     "output_type": "execute_result"
    }
   ],
   "source": [
    "# 找出每列的最小值还有一个方法：\n",
    "df.style.highlight_min(axis = 0 ,color = 'red') "
   ]
  },
  {
   "cell_type": "code",
   "execution_count": 34,
   "metadata": {},
   "outputs": [
    {
     "data": {
      "text/html": [
       "<style  type=\"text/css\" >\n",
       "    #T_6861ef68_4377_11e8_a4da_f859718df11brow0_col0 {\n",
       "            color: green;\n",
       "        }    #T_6861ef68_4377_11e8_a4da_f859718df11brow0_col1 {\n",
       "            color: green;\n",
       "        }    #T_6861ef68_4377_11e8_a4da_f859718df11brow0_col2 {\n",
       "            color: red;\n",
       "        }    #T_6861ef68_4377_11e8_a4da_f859718df11brow0_col3 {\n",
       "            color: green;\n",
       "        }    #T_6861ef68_4377_11e8_a4da_f859718df11brow0_col4 {\n",
       "            color: green;\n",
       "        }    #T_6861ef68_4377_11e8_a4da_f859718df11brow0_col5 {\n",
       "            color: green;\n",
       "        }    #T_6861ef68_4377_11e8_a4da_f859718df11brow0_col6 {\n",
       "            color: green;\n",
       "        }    #T_6861ef68_4377_11e8_a4da_f859718df11brow1_col0 {\n",
       "            color: green;\n",
       "        }    #T_6861ef68_4377_11e8_a4da_f859718df11brow1_col1 {\n",
       "            color: green;\n",
       "        }    #T_6861ef68_4377_11e8_a4da_f859718df11brow1_col2 {\n",
       "            color: green;\n",
       "        }    #T_6861ef68_4377_11e8_a4da_f859718df11brow1_col3 {\n",
       "            color: green;\n",
       "        }    #T_6861ef68_4377_11e8_a4da_f859718df11brow1_col4 {\n",
       "            color: green;\n",
       "        }    #T_6861ef68_4377_11e8_a4da_f859718df11brow1_col5 {\n",
       "            color: green;\n",
       "        }    #T_6861ef68_4377_11e8_a4da_f859718df11brow1_col6 {\n",
       "            color: green;\n",
       "        }    #T_6861ef68_4377_11e8_a4da_f859718df11brow2_col0 {\n",
       "            color: green;\n",
       "            : ;\n",
       "        }    #T_6861ef68_4377_11e8_a4da_f859718df11brow2_col1 {\n",
       "            color: green;\n",
       "            background-color: red;\n",
       "        }    #T_6861ef68_4377_11e8_a4da_f859718df11brow2_col2 {\n",
       "            color: green;\n",
       "            : ;\n",
       "        }    #T_6861ef68_4377_11e8_a4da_f859718df11brow2_col3 {\n",
       "            color: red;\n",
       "            background-color: red;\n",
       "        }    #T_6861ef68_4377_11e8_a4da_f859718df11brow2_col4 {\n",
       "            color: red;\n",
       "            : ;\n",
       "        }    #T_6861ef68_4377_11e8_a4da_f859718df11brow2_col5 {\n",
       "            color: green;\n",
       "            : ;\n",
       "        }    #T_6861ef68_4377_11e8_a4da_f859718df11brow2_col6 {\n",
       "            color: red;\n",
       "            background-color: red;\n",
       "        }    #T_6861ef68_4377_11e8_a4da_f859718df11brow3_col0 {\n",
       "            color: green;\n",
       "            background-color: red;\n",
       "        }    #T_6861ef68_4377_11e8_a4da_f859718df11brow3_col1 {\n",
       "            color: green;\n",
       "            : ;\n",
       "        }    #T_6861ef68_4377_11e8_a4da_f859718df11brow3_col2 {\n",
       "            color: green;\n",
       "            background-color: red;\n",
       "        }    #T_6861ef68_4377_11e8_a4da_f859718df11brow3_col3 {\n",
       "            color: red;\n",
       "            : ;\n",
       "        }    #T_6861ef68_4377_11e8_a4da_f859718df11brow3_col4 {\n",
       "            color: red;\n",
       "            background-color: red;\n",
       "        }    #T_6861ef68_4377_11e8_a4da_f859718df11brow3_col5 {\n",
       "            color: green;\n",
       "            background-color: red;\n",
       "        }    #T_6861ef68_4377_11e8_a4da_f859718df11brow3_col6 {\n",
       "            color: red;\n",
       "            : ;\n",
       "        }</style>  \n",
       "<table id=\"T_6861ef68_4377_11e8_a4da_f859718df11b\" > \n",
       "<thead>    <tr> \n",
       "        <th class=\"blank level0\" ></th> \n",
       "        <th class=\"col_heading level0 col0\" >row_0</th> \n",
       "        <th class=\"col_heading level0 col1\" >row_1</th> \n",
       "        <th class=\"col_heading level0 col2\" >row_2</th> \n",
       "        <th class=\"col_heading level0 col3\" >row_3</th> \n",
       "        <th class=\"col_heading level0 col4\" >row_4</th> \n",
       "        <th class=\"col_heading level0 col5\" >row_5</th> \n",
       "        <th class=\"col_heading level0 col6\" >row_6</th> \n",
       "    </tr></thead> \n",
       "<tbody>    <tr> \n",
       "        <th id=\"T_6861ef68_4377_11e8_a4da_f859718df11blevel0_row0\" class=\"row_heading level0 row0\" >0</th> \n",
       "        <td id=\"T_6861ef68_4377_11e8_a4da_f859718df11brow0_col0\" class=\"data row0 col0\" >0.153375</td> \n",
       "        <td id=\"T_6861ef68_4377_11e8_a4da_f859718df11brow0_col1\" class=\"data row0 col1\" >1.15003</td> \n",
       "        <td id=\"T_6861ef68_4377_11e8_a4da_f859718df11brow0_col2\" class=\"data row0 col2\" >-0.127145</td> \n",
       "        <td id=\"T_6861ef68_4377_11e8_a4da_f859718df11brow0_col3\" class=\"data row0 col3\" >0.782154</td> \n",
       "        <td id=\"T_6861ef68_4377_11e8_a4da_f859718df11brow0_col4\" class=\"data row0 col4\" >2.13417</td> \n",
       "        <td id=\"T_6861ef68_4377_11e8_a4da_f859718df11brow0_col5\" class=\"data row0 col5\" >1.38965</td> \n",
       "        <td id=\"T_6861ef68_4377_11e8_a4da_f859718df11brow0_col6\" class=\"data row0 col6\" >0.318714</td> \n",
       "    </tr>    <tr> \n",
       "        <th id=\"T_6861ef68_4377_11e8_a4da_f859718df11blevel0_row1\" class=\"row_heading level0 row1\" >1</th> \n",
       "        <td id=\"T_6861ef68_4377_11e8_a4da_f859718df11brow1_col0\" class=\"data row1 col0\" >0.447143</td> \n",
       "        <td id=\"T_6861ef68_4377_11e8_a4da_f859718df11brow1_col1\" class=\"data row1 col1\" >0.225145</td> \n",
       "        <td id=\"T_6861ef68_4377_11e8_a4da_f859718df11brow1_col2\" class=\"data row1 col2\" >0.535606</td> \n",
       "        <td id=\"T_6861ef68_4377_11e8_a4da_f859718df11brow1_col3\" class=\"data row1 col3\" >1.892</td> \n",
       "        <td id=\"T_6861ef68_4377_11e8_a4da_f859718df11brow1_col4\" class=\"data row1 col4\" >0.0916509</td> \n",
       "        <td id=\"T_6861ef68_4377_11e8_a4da_f859718df11brow1_col5\" class=\"data row1 col5\" >0.0137334</td> \n",
       "        <td id=\"T_6861ef68_4377_11e8_a4da_f859718df11brow1_col6\" class=\"data row1 col6\" >0.686879</td> \n",
       "    </tr>    <tr> \n",
       "        <th id=\"T_6861ef68_4377_11e8_a4da_f859718df11blevel0_row2\" class=\"row_heading level0 row2\" >2</th> \n",
       "        <td id=\"T_6861ef68_4377_11e8_a4da_f859718df11brow2_col0\" class=\"data row2 col0\" >0.487633</td> \n",
       "        <td id=\"T_6861ef68_4377_11e8_a4da_f859718df11brow2_col1\" class=\"data row2 col1\" >0.757918</td> \n",
       "        <td id=\"T_6861ef68_4377_11e8_a4da_f859718df11brow2_col2\" class=\"data row2 col2\" >1.96232</td> \n",
       "        <td id=\"T_6861ef68_4377_11e8_a4da_f859718df11brow2_col3\" class=\"data row2 col3\" >-1.26964</td> \n",
       "        <td id=\"T_6861ef68_4377_11e8_a4da_f859718df11brow2_col4\" class=\"data row2 col4\" >-0.447111</td> \n",
       "        <td id=\"T_6861ef68_4377_11e8_a4da_f859718df11brow2_col5\" class=\"data row2 col5\" >0.944311</td> \n",
       "        <td id=\"T_6861ef68_4377_11e8_a4da_f859718df11brow2_col6\" class=\"data row2 col6\" >-1.52395</td> \n",
       "    </tr>    <tr> \n",
       "        <th id=\"T_6861ef68_4377_11e8_a4da_f859718df11blevel0_row3\" class=\"row_heading level0 row3\" >3</th> \n",
       "        <td id=\"T_6861ef68_4377_11e8_a4da_f859718df11brow3_col0\" class=\"data row3 col0\" >0.135916</td> \n",
       "        <td id=\"T_6861ef68_4377_11e8_a4da_f859718df11brow3_col1\" class=\"data row3 col1\" >2.82473</td> \n",
       "        <td id=\"T_6861ef68_4377_11e8_a4da_f859718df11brow3_col2\" class=\"data row3 col2\" >0.698221</td> \n",
       "        <td id=\"T_6861ef68_4377_11e8_a4da_f859718df11brow3_col3\" class=\"data row3 col3\" >-0.18122</td> \n",
       "        <td id=\"T_6861ef68_4377_11e8_a4da_f859718df11brow3_col4\" class=\"data row3 col4\" >-1.98312</td> \n",
       "        <td id=\"T_6861ef68_4377_11e8_a4da_f859718df11brow3_col5\" class=\"data row3 col5\" >0.547549</td> \n",
       "        <td id=\"T_6861ef68_4377_11e8_a4da_f859718df11brow3_col6\" class=\"data row3 col6\" >-0.0843683</td> \n",
       "    </tr></tbody> \n",
       "</table> "
      ],
      "text/plain": [
       "<pandas.io.formats.style.Styler at 0x23b74ef5358>"
      ]
     },
     "execution_count": 34,
     "metadata": {},
     "output_type": "execute_result"
    }
   ],
   "source": [
    "# 结合上面两种形式\n",
    "df.style.applymap(show_color).apply(show_min_column,subset = pd.IndexSlice[[2,3],:] )  "
   ]
  },
  {
   "cell_type": "code",
   "execution_count": 39,
   "metadata": {},
   "outputs": [
    {
     "data": {
      "text/html": [
       "<style  type=\"text/css\" >\n",
       "    #T_a8f042d8_4377_11e8_949e_f859718df11brow0_col0 {\n",
       "            width:  10em;\n",
       "             height:  80%;\n",
       "            background:  linear-gradient(90deg,blue 5.0%, transparent 0%);\n",
       "        }    #T_a8f042d8_4377_11e8_949e_f859718df11brow0_col1 {\n",
       "            width:  10em;\n",
       "             height:  80%;\n",
       "            background:  linear-gradient(90deg,blue 35.6%, transparent 0%);\n",
       "        }    #T_a8f042d8_4377_11e8_949e_f859718df11brow0_col2 {\n",
       "            width:  10em;\n",
       "             height:  80%;\n",
       "        }    #T_a8f042d8_4377_11e8_949e_f859718df11brow0_col3 {\n",
       "            width:  10em;\n",
       "             height:  80%;\n",
       "            background:  linear-gradient(90deg,blue 64.9%, transparent 0%);\n",
       "        }    #T_a8f042d8_4377_11e8_949e_f859718df11brow0_col4 {\n",
       "            width:  10em;\n",
       "             height:  80%;\n",
       "            background:  linear-gradient(90deg,blue 100.0%, transparent 0%);\n",
       "        }    #T_a8f042d8_4377_11e8_949e_f859718df11brow0_col5 {\n",
       "            width:  10em;\n",
       "             height:  80%;\n",
       "            background:  linear-gradient(90deg,blue 100.0%, transparent 0%);\n",
       "        }    #T_a8f042d8_4377_11e8_949e_f859718df11brow0_col6 {\n",
       "            width:  10em;\n",
       "             height:  80%;\n",
       "            background:  linear-gradient(90deg,blue 83.3%, transparent 0%);\n",
       "        }    #T_a8f042d8_4377_11e8_949e_f859718df11brow1_col0 {\n",
       "            width:  10em;\n",
       "             height:  80%;\n",
       "            background:  linear-gradient(90deg,blue 88.5%, transparent 0%);\n",
       "        }    #T_a8f042d8_4377_11e8_949e_f859718df11brow1_col1 {\n",
       "            width:  10em;\n",
       "             height:  80%;\n",
       "        }    #T_a8f042d8_4377_11e8_949e_f859718df11brow1_col2 {\n",
       "            width:  10em;\n",
       "             height:  80%;\n",
       "            background:  linear-gradient(90deg,blue 31.7%, transparent 0%);\n",
       "        }    #T_a8f042d8_4377_11e8_949e_f859718df11brow1_col3 {\n",
       "            width:  10em;\n",
       "             height:  80%;\n",
       "            background:  linear-gradient(90deg,blue 100.0%, transparent 0%);\n",
       "        }    #T_a8f042d8_4377_11e8_949e_f859718df11brow1_col4 {\n",
       "            width:  10em;\n",
       "             height:  80%;\n",
       "            background:  linear-gradient(90deg,blue 50.4%, transparent 0%);\n",
       "        }    #T_a8f042d8_4377_11e8_949e_f859718df11brow1_col5 {\n",
       "            width:  10em;\n",
       "             height:  80%;\n",
       "        }    #T_a8f042d8_4377_11e8_949e_f859718df11brow1_col6 {\n",
       "            width:  10em;\n",
       "             height:  80%;\n",
       "            background:  linear-gradient(90deg,blue 100.0%, transparent 0%);\n",
       "        }    #T_a8f042d8_4377_11e8_949e_f859718df11brow2_col0 {\n",
       "            width:  10em;\n",
       "             height:  80%;\n",
       "            background:  linear-gradient(90deg,blue 100.0%, transparent 0%);\n",
       "        }    #T_a8f042d8_4377_11e8_949e_f859718df11brow2_col1 {\n",
       "            width:  10em;\n",
       "             height:  80%;\n",
       "            background:  linear-gradient(90deg,blue 20.5%, transparent 0%);\n",
       "        }    #T_a8f042d8_4377_11e8_949e_f859718df11brow2_col2 {\n",
       "            width:  10em;\n",
       "             height:  80%;\n",
       "            background:  linear-gradient(90deg,blue 100.0%, transparent 0%);\n",
       "        }    #T_a8f042d8_4377_11e8_949e_f859718df11brow2_col3 {\n",
       "            width:  10em;\n",
       "             height:  80%;\n",
       "        }    #T_a8f042d8_4377_11e8_949e_f859718df11brow2_col4 {\n",
       "            width:  10em;\n",
       "             height:  80%;\n",
       "            background:  linear-gradient(90deg,blue 37.3%, transparent 0%);\n",
       "        }    #T_a8f042d8_4377_11e8_949e_f859718df11brow2_col5 {\n",
       "            width:  10em;\n",
       "             height:  80%;\n",
       "            background:  linear-gradient(90deg,blue 67.6%, transparent 0%);\n",
       "        }    #T_a8f042d8_4377_11e8_949e_f859718df11brow2_col6 {\n",
       "            width:  10em;\n",
       "             height:  80%;\n",
       "        }    #T_a8f042d8_4377_11e8_949e_f859718df11brow3_col0 {\n",
       "            width:  10em;\n",
       "             height:  80%;\n",
       "        }    #T_a8f042d8_4377_11e8_949e_f859718df11brow3_col1 {\n",
       "            width:  10em;\n",
       "             height:  80%;\n",
       "            background:  linear-gradient(90deg,blue 100.0%, transparent 0%);\n",
       "        }    #T_a8f042d8_4377_11e8_949e_f859718df11brow3_col2 {\n",
       "            width:  10em;\n",
       "             height:  80%;\n",
       "            background:  linear-gradient(90deg,blue 39.5%, transparent 0%);\n",
       "        }    #T_a8f042d8_4377_11e8_949e_f859718df11brow3_col3 {\n",
       "            width:  10em;\n",
       "             height:  80%;\n",
       "            background:  linear-gradient(90deg,blue 34.4%, transparent 0%);\n",
       "        }    #T_a8f042d8_4377_11e8_949e_f859718df11brow3_col4 {\n",
       "            width:  10em;\n",
       "             height:  80%;\n",
       "        }    #T_a8f042d8_4377_11e8_949e_f859718df11brow3_col5 {\n",
       "            width:  10em;\n",
       "             height:  80%;\n",
       "            background:  linear-gradient(90deg,blue 38.8%, transparent 0%);\n",
       "        }    #T_a8f042d8_4377_11e8_949e_f859718df11brow3_col6 {\n",
       "            width:  10em;\n",
       "             height:  80%;\n",
       "            background:  linear-gradient(90deg,blue 65.1%, transparent 0%);\n",
       "        }</style>  \n",
       "<table id=\"T_a8f042d8_4377_11e8_949e_f859718df11b\" > \n",
       "<thead>    <tr> \n",
       "        <th class=\"blank level0\" ></th> \n",
       "        <th class=\"col_heading level0 col0\" >row_0</th> \n",
       "        <th class=\"col_heading level0 col1\" >row_1</th> \n",
       "        <th class=\"col_heading level0 col2\" >row_2</th> \n",
       "        <th class=\"col_heading level0 col3\" >row_3</th> \n",
       "        <th class=\"col_heading level0 col4\" >row_4</th> \n",
       "        <th class=\"col_heading level0 col5\" >row_5</th> \n",
       "        <th class=\"col_heading level0 col6\" >row_6</th> \n",
       "    </tr></thead> \n",
       "<tbody>    <tr> \n",
       "        <th id=\"T_a8f042d8_4377_11e8_949e_f859718df11blevel0_row0\" class=\"row_heading level0 row0\" >0</th> \n",
       "        <td id=\"T_a8f042d8_4377_11e8_949e_f859718df11brow0_col0\" class=\"data row0 col0\" >0.153375</td> \n",
       "        <td id=\"T_a8f042d8_4377_11e8_949e_f859718df11brow0_col1\" class=\"data row0 col1\" >1.15003</td> \n",
       "        <td id=\"T_a8f042d8_4377_11e8_949e_f859718df11brow0_col2\" class=\"data row0 col2\" >-0.127145</td> \n",
       "        <td id=\"T_a8f042d8_4377_11e8_949e_f859718df11brow0_col3\" class=\"data row0 col3\" >0.782154</td> \n",
       "        <td id=\"T_a8f042d8_4377_11e8_949e_f859718df11brow0_col4\" class=\"data row0 col4\" >2.13417</td> \n",
       "        <td id=\"T_a8f042d8_4377_11e8_949e_f859718df11brow0_col5\" class=\"data row0 col5\" >1.38965</td> \n",
       "        <td id=\"T_a8f042d8_4377_11e8_949e_f859718df11brow0_col6\" class=\"data row0 col6\" >0.318714</td> \n",
       "    </tr>    <tr> \n",
       "        <th id=\"T_a8f042d8_4377_11e8_949e_f859718df11blevel0_row1\" class=\"row_heading level0 row1\" >1</th> \n",
       "        <td id=\"T_a8f042d8_4377_11e8_949e_f859718df11brow1_col0\" class=\"data row1 col0\" >0.447143</td> \n",
       "        <td id=\"T_a8f042d8_4377_11e8_949e_f859718df11brow1_col1\" class=\"data row1 col1\" >0.225145</td> \n",
       "        <td id=\"T_a8f042d8_4377_11e8_949e_f859718df11brow1_col2\" class=\"data row1 col2\" >0.535606</td> \n",
       "        <td id=\"T_a8f042d8_4377_11e8_949e_f859718df11brow1_col3\" class=\"data row1 col3\" >1.892</td> \n",
       "        <td id=\"T_a8f042d8_4377_11e8_949e_f859718df11brow1_col4\" class=\"data row1 col4\" >0.0916509</td> \n",
       "        <td id=\"T_a8f042d8_4377_11e8_949e_f859718df11brow1_col5\" class=\"data row1 col5\" >0.0137334</td> \n",
       "        <td id=\"T_a8f042d8_4377_11e8_949e_f859718df11brow1_col6\" class=\"data row1 col6\" >0.686879</td> \n",
       "    </tr>    <tr> \n",
       "        <th id=\"T_a8f042d8_4377_11e8_949e_f859718df11blevel0_row2\" class=\"row_heading level0 row2\" >2</th> \n",
       "        <td id=\"T_a8f042d8_4377_11e8_949e_f859718df11brow2_col0\" class=\"data row2 col0\" >0.487633</td> \n",
       "        <td id=\"T_a8f042d8_4377_11e8_949e_f859718df11brow2_col1\" class=\"data row2 col1\" >0.757918</td> \n",
       "        <td id=\"T_a8f042d8_4377_11e8_949e_f859718df11brow2_col2\" class=\"data row2 col2\" >1.96232</td> \n",
       "        <td id=\"T_a8f042d8_4377_11e8_949e_f859718df11brow2_col3\" class=\"data row2 col3\" >-1.26964</td> \n",
       "        <td id=\"T_a8f042d8_4377_11e8_949e_f859718df11brow2_col4\" class=\"data row2 col4\" >-0.447111</td> \n",
       "        <td id=\"T_a8f042d8_4377_11e8_949e_f859718df11brow2_col5\" class=\"data row2 col5\" >0.944311</td> \n",
       "        <td id=\"T_a8f042d8_4377_11e8_949e_f859718df11brow2_col6\" class=\"data row2 col6\" >-1.52395</td> \n",
       "    </tr>    <tr> \n",
       "        <th id=\"T_a8f042d8_4377_11e8_949e_f859718df11blevel0_row3\" class=\"row_heading level0 row3\" >3</th> \n",
       "        <td id=\"T_a8f042d8_4377_11e8_949e_f859718df11brow3_col0\" class=\"data row3 col0\" >0.135916</td> \n",
       "        <td id=\"T_a8f042d8_4377_11e8_949e_f859718df11brow3_col1\" class=\"data row3 col1\" >2.82473</td> \n",
       "        <td id=\"T_a8f042d8_4377_11e8_949e_f859718df11brow3_col2\" class=\"data row3 col2\" >0.698221</td> \n",
       "        <td id=\"T_a8f042d8_4377_11e8_949e_f859718df11brow3_col3\" class=\"data row3 col3\" >-0.18122</td> \n",
       "        <td id=\"T_a8f042d8_4377_11e8_949e_f859718df11brow3_col4\" class=\"data row3 col4\" >-1.98312</td> \n",
       "        <td id=\"T_a8f042d8_4377_11e8_949e_f859718df11brow3_col5\" class=\"data row3 col5\" >0.547549</td> \n",
       "        <td id=\"T_a8f042d8_4377_11e8_949e_f859718df11brow3_col6\" class=\"data row3 col6\" >-0.0843683</td> \n",
       "    </tr></tbody> \n",
       "</table> "
      ],
      "text/plain": [
       "<pandas.io.formats.style.Styler at 0x23b74ef1e80>"
      ]
     },
     "execution_count": 39,
     "metadata": {},
     "output_type": "execute_result"
    }
   ],
   "source": [
    "df.style.bar(color = 'blue') # 每一列中最小值是0，最大值是全部"
   ]
  },
  {
   "cell_type": "markdown",
   "metadata": {},
   "source": [
    "### operitaion"
   ]
  },
  {
   "cell_type": "code",
   "execution_count": 9,
   "metadata": {},
   "outputs": [
    {
     "data": {
      "text/plain": [
       "a    0\n",
       "b    1\n",
       "c    2\n",
       "d    3\n",
       "e    4\n",
       "dtype: int32"
      ]
     },
     "execution_count": 9,
     "metadata": {},
     "output_type": "execute_result"
    },
    {
     "data": {
      "text/plain": [
       "a    10\n",
       "b    11\n",
       "c    12\n",
       "d    13\n",
       "f    14\n",
       "dtype: int32"
      ]
     },
     "execution_count": 9,
     "metadata": {},
     "output_type": "execute_result"
    },
    {
     "data": {
      "text/plain": [
       "a    10.0\n",
       "b    12.0\n",
       "c    14.0\n",
       "d    16.0\n",
       "e     NaN\n",
       "f     NaN\n",
       "dtype: float64"
      ]
     },
     "execution_count": 9,
     "metadata": {},
     "output_type": "execute_result"
    },
    {
     "data": {
      "text/plain": [
       "a    10.0\n",
       "b    12.0\n",
       "c    14.0\n",
       "d    16.0\n",
       "e     4.0\n",
       "f    14.0\n",
       "dtype: float64"
      ]
     },
     "execution_count": 9,
     "metadata": {},
     "output_type": "execute_result"
    },
    {
     "data": {
      "text/plain": [
       "a    10.0\n",
       "b    12.0\n",
       "c    14.0\n",
       "d    16.0\n",
       "e     NaN\n",
       "f     NaN\n",
       "dtype: float64"
      ]
     },
     "execution_count": 9,
     "metadata": {},
     "output_type": "execute_result"
    }
   ],
   "source": [
    "s1 = Series(np.arange(5),index = ['a','b','c','d','e'])\n",
    "s2 = Series(np.arange(10,15,1),index = ['a','b','c','d','f']) \n",
    "# arange的用法和range很像\n",
    "s1\n",
    "s2\n",
    "s1 + s2 # 也可以：\n",
    "s1.add(s2,fill_value = 0) # 还可以\n",
    "s1.radd(s2)"
   ]
  },
  {
   "cell_type": "code",
   "execution_count": 63,
   "metadata": {},
   "outputs": [
    {
     "data": {
      "text/plain": [
       "a    13\n",
       "b    14\n",
       "c    15\n",
       "d    16\n",
       "f    17\n",
       "dtype: int32"
      ]
     },
     "execution_count": 63,
     "metadata": {},
     "output_type": "execute_result"
    }
   ],
   "source": [
    "s2.add(3) # 这里不能用 3.add(s2)"
   ]
  },
  {
   "cell_type": "code",
   "execution_count": 30,
   "metadata": {},
   "outputs": [
    {
     "data": {
      "text/html": [
       "<div>\n",
       "<style>\n",
       "    .dataframe thead tr:only-child th {\n",
       "        text-align: right;\n",
       "    }\n",
       "\n",
       "    .dataframe thead th {\n",
       "        text-align: left;\n",
       "    }\n",
       "\n",
       "    .dataframe tbody tr th {\n",
       "        vertical-align: top;\n",
       "    }\n",
       "</style>\n",
       "<table border=\"1\" class=\"dataframe\">\n",
       "  <thead>\n",
       "    <tr style=\"text-align: right;\">\n",
       "      <th></th>\n",
       "      <th>ohio</th>\n",
       "      <th>texas</th>\n",
       "      <th>colorado</th>\n",
       "      <th>oregan</th>\n",
       "    </tr>\n",
       "  </thead>\n",
       "  <tbody>\n",
       "    <tr>\n",
       "      <th>a</th>\n",
       "      <td>0</td>\n",
       "      <td>1</td>\n",
       "      <td>2</td>\n",
       "      <td>3</td>\n",
       "    </tr>\n",
       "    <tr>\n",
       "      <th>b</th>\n",
       "      <td>4</td>\n",
       "      <td>5</td>\n",
       "      <td>6</td>\n",
       "      <td>7</td>\n",
       "    </tr>\n",
       "    <tr>\n",
       "      <th>c</th>\n",
       "      <td>8</td>\n",
       "      <td>9</td>\n",
       "      <td>10</td>\n",
       "      <td>11</td>\n",
       "    </tr>\n",
       "  </tbody>\n",
       "</table>\n",
       "</div>"
      ],
      "text/plain": [
       "   ohio  texas  colorado  oregan\n",
       "a     0      1         2       3\n",
       "b     4      5         6       7\n",
       "c     8      9        10      11"
      ]
     },
     "execution_count": 30,
     "metadata": {},
     "output_type": "execute_result"
    },
    {
     "data": {
      "text/html": [
       "<div>\n",
       "<style>\n",
       "    .dataframe thead tr:only-child th {\n",
       "        text-align: right;\n",
       "    }\n",
       "\n",
       "    .dataframe thead th {\n",
       "        text-align: left;\n",
       "    }\n",
       "\n",
       "    .dataframe tbody tr th {\n",
       "        vertical-align: top;\n",
       "    }\n",
       "</style>\n",
       "<table border=\"1\" class=\"dataframe\">\n",
       "  <thead>\n",
       "    <tr style=\"text-align: right;\">\n",
       "      <th></th>\n",
       "      <th>ohio</th>\n",
       "      <th>texas</th>\n",
       "      <th>utah</th>\n",
       "    </tr>\n",
       "  </thead>\n",
       "  <tbody>\n",
       "    <tr>\n",
       "      <th>a</th>\n",
       "      <td>0.0</td>\n",
       "      <td>1.0</td>\n",
       "      <td>2.0</td>\n",
       "    </tr>\n",
       "    <tr>\n",
       "      <th>b</th>\n",
       "      <td>3.0</td>\n",
       "      <td>4.0</td>\n",
       "      <td>5.0</td>\n",
       "    </tr>\n",
       "    <tr>\n",
       "      <th>d</th>\n",
       "      <td>6.0</td>\n",
       "      <td>7.0</td>\n",
       "      <td>8.0</td>\n",
       "    </tr>\n",
       "  </tbody>\n",
       "</table>\n",
       "</div>"
      ],
      "text/plain": [
       "   ohio  texas  utah\n",
       "a   0.0    1.0   2.0\n",
       "b   3.0    4.0   5.0\n",
       "d   6.0    7.0   8.0"
      ]
     },
     "execution_count": 30,
     "metadata": {},
     "output_type": "execute_result"
    },
    {
     "data": {
      "text/html": [
       "<div>\n",
       "<style>\n",
       "    .dataframe thead tr:only-child th {\n",
       "        text-align: right;\n",
       "    }\n",
       "\n",
       "    .dataframe thead th {\n",
       "        text-align: left;\n",
       "    }\n",
       "\n",
       "    .dataframe tbody tr th {\n",
       "        vertical-align: top;\n",
       "    }\n",
       "</style>\n",
       "<table border=\"1\" class=\"dataframe\">\n",
       "  <thead>\n",
       "    <tr style=\"text-align: right;\">\n",
       "      <th></th>\n",
       "      <th>colorado</th>\n",
       "      <th>ohio</th>\n",
       "      <th>oregan</th>\n",
       "      <th>texas</th>\n",
       "      <th>utah</th>\n",
       "    </tr>\n",
       "  </thead>\n",
       "  <tbody>\n",
       "    <tr>\n",
       "      <th>a</th>\n",
       "      <td>NaN</td>\n",
       "      <td>0.0</td>\n",
       "      <td>NaN</td>\n",
       "      <td>2.0</td>\n",
       "      <td>NaN</td>\n",
       "    </tr>\n",
       "    <tr>\n",
       "      <th>b</th>\n",
       "      <td>NaN</td>\n",
       "      <td>7.0</td>\n",
       "      <td>NaN</td>\n",
       "      <td>9.0</td>\n",
       "      <td>NaN</td>\n",
       "    </tr>\n",
       "    <tr>\n",
       "      <th>c</th>\n",
       "      <td>NaN</td>\n",
       "      <td>NaN</td>\n",
       "      <td>NaN</td>\n",
       "      <td>NaN</td>\n",
       "      <td>NaN</td>\n",
       "    </tr>\n",
       "    <tr>\n",
       "      <th>d</th>\n",
       "      <td>NaN</td>\n",
       "      <td>NaN</td>\n",
       "      <td>NaN</td>\n",
       "      <td>NaN</td>\n",
       "      <td>NaN</td>\n",
       "    </tr>\n",
       "  </tbody>\n",
       "</table>\n",
       "</div>"
      ],
      "text/plain": [
       "   colorado  ohio  oregan  texas  utah\n",
       "a       NaN   0.0     NaN    2.0   NaN\n",
       "b       NaN   7.0     NaN    9.0   NaN\n",
       "c       NaN   NaN     NaN    NaN   NaN\n",
       "d       NaN   NaN     NaN    NaN   NaN"
      ]
     },
     "execution_count": 30,
     "metadata": {},
     "output_type": "execute_result"
    }
   ],
   "source": [
    "df10 = DataFrame(np.arange(12).reshape(3,4),index = list('abc'),\n",
    "                columns = ['ohio','texas','colorado','oregan'])\n",
    "df11 = DataFrame(np.arange(9.).reshape(3,3),index = list('abd'),\n",
    "                columns = ['ohio','texas','utah'])\n",
    "df10\n",
    "df11\n",
    "df11 + df10"
   ]
  },
  {
   "cell_type": "code",
   "execution_count": 71,
   "metadata": {},
   "outputs": [
    {
     "data": {
      "text/html": [
       "<div>\n",
       "<style>\n",
       "    .dataframe thead tr:only-child th {\n",
       "        text-align: right;\n",
       "    }\n",
       "\n",
       "    .dataframe thead th {\n",
       "        text-align: left;\n",
       "    }\n",
       "\n",
       "    .dataframe tbody tr th {\n",
       "        vertical-align: top;\n",
       "    }\n",
       "</style>\n",
       "<table border=\"1\" class=\"dataframe\">\n",
       "  <thead>\n",
       "    <tr style=\"text-align: right;\">\n",
       "      <th></th>\n",
       "      <th>ohio</th>\n",
       "      <th>texas</th>\n",
       "      <th>utah</th>\n",
       "    </tr>\n",
       "  </thead>\n",
       "  <tbody>\n",
       "    <tr>\n",
       "      <th>a</th>\n",
       "      <td>NaN</td>\n",
       "      <td>1.0</td>\n",
       "      <td>2.0</td>\n",
       "    </tr>\n",
       "    <tr>\n",
       "      <th>b</th>\n",
       "      <td>3.0</td>\n",
       "      <td>4.0</td>\n",
       "      <td>5.0</td>\n",
       "    </tr>\n",
       "    <tr>\n",
       "      <th>d</th>\n",
       "      <td>6.0</td>\n",
       "      <td>7.0</td>\n",
       "      <td>8.0</td>\n",
       "    </tr>\n",
       "  </tbody>\n",
       "</table>\n",
       "</div>"
      ],
      "text/plain": [
       "   ohio  texas  utah\n",
       "a   NaN    1.0   2.0\n",
       "b   3.0    4.0   5.0\n",
       "d   6.0    7.0   8.0"
      ]
     },
     "execution_count": 71,
     "metadata": {},
     "output_type": "execute_result"
    }
   ],
   "source": [
    "df11.loc['a','ohio'] = np.nan\n",
    "df11"
   ]
  },
  {
   "cell_type": "code",
   "execution_count": 73,
   "metadata": {},
   "outputs": [
    {
     "data": {
      "text/html": [
       "<div>\n",
       "<style>\n",
       "    .dataframe thead tr:only-child th {\n",
       "        text-align: right;\n",
       "    }\n",
       "\n",
       "    .dataframe thead th {\n",
       "        text-align: left;\n",
       "    }\n",
       "\n",
       "    .dataframe tbody tr th {\n",
       "        vertical-align: top;\n",
       "    }\n",
       "</style>\n",
       "<table border=\"1\" class=\"dataframe\">\n",
       "  <thead>\n",
       "    <tr style=\"text-align: right;\">\n",
       "      <th></th>\n",
       "      <th>colorado</th>\n",
       "      <th>ohio</th>\n",
       "      <th>oregan</th>\n",
       "      <th>texas</th>\n",
       "      <th>utah</th>\n",
       "    </tr>\n",
       "  </thead>\n",
       "  <tbody>\n",
       "    <tr>\n",
       "      <th>a</th>\n",
       "      <td>2.0</td>\n",
       "      <td>0.0</td>\n",
       "      <td>3.0</td>\n",
       "      <td>2.0</td>\n",
       "      <td>2.0</td>\n",
       "    </tr>\n",
       "    <tr>\n",
       "      <th>b</th>\n",
       "      <td>6.0</td>\n",
       "      <td>7.0</td>\n",
       "      <td>7.0</td>\n",
       "      <td>9.0</td>\n",
       "      <td>5.0</td>\n",
       "    </tr>\n",
       "    <tr>\n",
       "      <th>c</th>\n",
       "      <td>10.0</td>\n",
       "      <td>8.0</td>\n",
       "      <td>11.0</td>\n",
       "      <td>9.0</td>\n",
       "      <td>NaN</td>\n",
       "    </tr>\n",
       "    <tr>\n",
       "      <th>d</th>\n",
       "      <td>NaN</td>\n",
       "      <td>6.0</td>\n",
       "      <td>NaN</td>\n",
       "      <td>7.0</td>\n",
       "      <td>8.0</td>\n",
       "    </tr>\n",
       "  </tbody>\n",
       "</table>\n",
       "</div>"
      ],
      "text/plain": [
       "   colorado  ohio  oregan  texas  utah\n",
       "a       2.0   0.0     3.0    2.0   2.0\n",
       "b       6.0   7.0     7.0    9.0   5.0\n",
       "c      10.0   8.0    11.0    9.0   NaN\n",
       "d       NaN   6.0     NaN    7.0   8.0"
      ]
     },
     "execution_count": 73,
     "metadata": {},
     "output_type": "execute_result"
    }
   ],
   "source": [
    "df10.add(df11,fill_value = 0)"
   ]
  },
  {
   "cell_type": "code",
   "execution_count": 5,
   "metadata": {},
   "outputs": [
    {
     "data": {
      "text/html": [
       "<div>\n",
       "<style>\n",
       "    .dataframe thead tr:only-child th {\n",
       "        text-align: right;\n",
       "    }\n",
       "\n",
       "    .dataframe thead th {\n",
       "        text-align: left;\n",
       "    }\n",
       "\n",
       "    .dataframe tbody tr th {\n",
       "        vertical-align: top;\n",
       "    }\n",
       "</style>\n",
       "<table border=\"1\" class=\"dataframe\">\n",
       "  <thead>\n",
       "    <tr style=\"text-align: right;\">\n",
       "      <th></th>\n",
       "      <th>ohio</th>\n",
       "      <th>texas</th>\n",
       "      <th>colorado</th>\n",
       "      <th>oregan</th>\n",
       "    </tr>\n",
       "  </thead>\n",
       "  <tbody>\n",
       "    <tr>\n",
       "      <th>a</th>\n",
       "      <td>0.0</td>\n",
       "      <td>1.0</td>\n",
       "      <td>2.0</td>\n",
       "      <td>3.0</td>\n",
       "    </tr>\n",
       "    <tr>\n",
       "      <th>b</th>\n",
       "      <td>4.0</td>\n",
       "      <td>5.0</td>\n",
       "      <td>6.0</td>\n",
       "      <td>7.0</td>\n",
       "    </tr>\n",
       "    <tr>\n",
       "      <th>c</th>\n",
       "      <td>8.0</td>\n",
       "      <td>9.0</td>\n",
       "      <td>10.0</td>\n",
       "      <td>11.0</td>\n",
       "    </tr>\n",
       "  </tbody>\n",
       "</table>\n",
       "</div>"
      ],
      "text/plain": [
       "   ohio  texas  colorado  oregan\n",
       "a   0.0    1.0       2.0     3.0\n",
       "b   4.0    5.0       6.0     7.0\n",
       "c   8.0    9.0      10.0    11.0"
      ]
     },
     "execution_count": 5,
     "metadata": {},
     "output_type": "execute_result"
    },
    {
     "data": {
      "text/html": [
       "<div>\n",
       "<style>\n",
       "    .dataframe thead tr:only-child th {\n",
       "        text-align: right;\n",
       "    }\n",
       "\n",
       "    .dataframe thead th {\n",
       "        text-align: left;\n",
       "    }\n",
       "\n",
       "    .dataframe tbody tr th {\n",
       "        vertical-align: top;\n",
       "    }\n",
       "</style>\n",
       "<table border=\"1\" class=\"dataframe\">\n",
       "  <thead>\n",
       "    <tr style=\"text-align: right;\">\n",
       "      <th></th>\n",
       "      <th>ohio</th>\n",
       "      <th>texas</th>\n",
       "      <th>colorado</th>\n",
       "      <th>oregan</th>\n",
       "    </tr>\n",
       "  </thead>\n",
       "  <tbody>\n",
       "    <tr>\n",
       "      <th>a</th>\n",
       "      <td>0.0</td>\n",
       "      <td>1.0</td>\n",
       "      <td>2.0</td>\n",
       "      <td>3.0</td>\n",
       "    </tr>\n",
       "    <tr>\n",
       "      <th>b</th>\n",
       "      <td>4.0</td>\n",
       "      <td>5.0</td>\n",
       "      <td>6.0</td>\n",
       "      <td>7.0</td>\n",
       "    </tr>\n",
       "    <tr>\n",
       "      <th>c</th>\n",
       "      <td>8.0</td>\n",
       "      <td>9.0</td>\n",
       "      <td>10.0</td>\n",
       "      <td>11.0</td>\n",
       "    </tr>\n",
       "  </tbody>\n",
       "</table>\n",
       "</div>"
      ],
      "text/plain": [
       "   ohio  texas  colorado  oregan\n",
       "a   0.0    1.0       2.0     3.0\n",
       "b   4.0    5.0       6.0     7.0\n",
       "c   8.0    9.0      10.0    11.0"
      ]
     },
     "execution_count": 5,
     "metadata": {},
     "output_type": "execute_result"
    },
    {
     "data": {
      "text/html": [
       "<div>\n",
       "<style>\n",
       "    .dataframe thead tr:only-child th {\n",
       "        text-align: right;\n",
       "    }\n",
       "\n",
       "    .dataframe thead th {\n",
       "        text-align: left;\n",
       "    }\n",
       "\n",
       "    .dataframe tbody tr th {\n",
       "        vertical-align: top;\n",
       "    }\n",
       "</style>\n",
       "<table border=\"1\" class=\"dataframe\">\n",
       "  <thead>\n",
       "    <tr style=\"text-align: right;\">\n",
       "      <th></th>\n",
       "      <th>ohio</th>\n",
       "      <th>texas</th>\n",
       "      <th>colorado</th>\n",
       "      <th>oregan</th>\n",
       "    </tr>\n",
       "  </thead>\n",
       "  <tbody>\n",
       "    <tr>\n",
       "      <th>a</th>\n",
       "      <td>0.0</td>\n",
       "      <td>1.0</td>\n",
       "      <td>2.0</td>\n",
       "      <td>3.0</td>\n",
       "    </tr>\n",
       "    <tr>\n",
       "      <th>b</th>\n",
       "      <td>4.0</td>\n",
       "      <td>5.0</td>\n",
       "      <td>6.0</td>\n",
       "      <td>7.0</td>\n",
       "    </tr>\n",
       "    <tr>\n",
       "      <th>c</th>\n",
       "      <td>8.0</td>\n",
       "      <td>9.0</td>\n",
       "      <td>10.0</td>\n",
       "      <td>11.0</td>\n",
       "    </tr>\n",
       "  </tbody>\n",
       "</table>\n",
       "</div>"
      ],
      "text/plain": [
       "   ohio  texas  colorado  oregan\n",
       "a   0.0    1.0       2.0     3.0\n",
       "b   4.0    5.0       6.0     7.0\n",
       "c   8.0    9.0      10.0    11.0"
      ]
     },
     "execution_count": 5,
     "metadata": {},
     "output_type": "execute_result"
    }
   ],
   "source": [
    "df10 / 1 # 相当于\n",
    "df10.div(1) # 还相当于\n",
    "df12 = DataFrame(np.ones_like(df10),index = df10.index,\n",
    "                columns = df10.columns)\n",
    "df12.rdiv(df10) \n",
    "# 还有其它：add sub floordiv mul pow"
   ]
  },
  {
   "cell_type": "code",
   "execution_count": 14,
   "metadata": {},
   "outputs": [
    {
     "data": {
      "text/html": [
       "<div>\n",
       "<style>\n",
       "    .dataframe thead tr:only-child th {\n",
       "        text-align: right;\n",
       "    }\n",
       "\n",
       "    .dataframe thead th {\n",
       "        text-align: left;\n",
       "    }\n",
       "\n",
       "    .dataframe tbody tr th {\n",
       "        vertical-align: top;\n",
       "    }\n",
       "</style>\n",
       "<table border=\"1\" class=\"dataframe\">\n",
       "  <thead>\n",
       "    <tr style=\"text-align: right;\">\n",
       "      <th></th>\n",
       "      <th>ohio</th>\n",
       "      <th>texas</th>\n",
       "      <th>colorado</th>\n",
       "      <th>oregan</th>\n",
       "    </tr>\n",
       "  </thead>\n",
       "  <tbody>\n",
       "    <tr>\n",
       "      <th>a</th>\n",
       "      <td>0.0</td>\n",
       "      <td>1.0</td>\n",
       "      <td>2.0</td>\n",
       "      <td>3.0</td>\n",
       "    </tr>\n",
       "    <tr>\n",
       "      <th>b</th>\n",
       "      <td>5.0</td>\n",
       "      <td>6.0</td>\n",
       "      <td>7.0</td>\n",
       "      <td>8.0</td>\n",
       "    </tr>\n",
       "    <tr>\n",
       "      <th>c</th>\n",
       "      <td>10.0</td>\n",
       "      <td>11.0</td>\n",
       "      <td>12.0</td>\n",
       "      <td>13.0</td>\n",
       "    </tr>\n",
       "    <tr>\n",
       "      <th>d</th>\n",
       "      <td>NaN</td>\n",
       "      <td>NaN</td>\n",
       "      <td>NaN</td>\n",
       "      <td>NaN</td>\n",
       "    </tr>\n",
       "    <tr>\n",
       "      <th>e</th>\n",
       "      <td>NaN</td>\n",
       "      <td>NaN</td>\n",
       "      <td>NaN</td>\n",
       "      <td>NaN</td>\n",
       "    </tr>\n",
       "  </tbody>\n",
       "</table>\n",
       "</div>"
      ],
      "text/plain": [
       "   ohio  texas  colorado  oregan\n",
       "a   0.0    1.0       2.0     3.0\n",
       "b   5.0    6.0       7.0     8.0\n",
       "c  10.0   11.0      12.0    13.0\n",
       "d   NaN    NaN       NaN     NaN\n",
       "e   NaN    NaN       NaN     NaN"
      ]
     },
     "execution_count": 14,
     "metadata": {},
     "output_type": "execute_result"
    }
   ],
   "source": [
    "df10.add(s1,axis = 0) # 不能用s1.add(df10)"
   ]
  },
  {
   "cell_type": "code",
   "execution_count": 13,
   "metadata": {},
   "outputs": [
    {
     "data": {
      "text/html": [
       "<div>\n",
       "<style>\n",
       "    .dataframe thead tr:only-child th {\n",
       "        text-align: right;\n",
       "    }\n",
       "\n",
       "    .dataframe thead th {\n",
       "        text-align: left;\n",
       "    }\n",
       "\n",
       "    .dataframe tbody tr th {\n",
       "        vertical-align: top;\n",
       "    }\n",
       "</style>\n",
       "<table border=\"1\" class=\"dataframe\">\n",
       "  <thead>\n",
       "    <tr style=\"text-align: right;\">\n",
       "      <th></th>\n",
       "      <th>ohio</th>\n",
       "      <th>texas</th>\n",
       "      <th>colorado</th>\n",
       "      <th>oregan</th>\n",
       "    </tr>\n",
       "  </thead>\n",
       "  <tbody>\n",
       "    <tr>\n",
       "      <th>a</th>\n",
       "      <td>0.0</td>\n",
       "      <td>1.0</td>\n",
       "      <td>2.0</td>\n",
       "      <td>3.0</td>\n",
       "    </tr>\n",
       "    <tr>\n",
       "      <th>b</th>\n",
       "      <td>5.0</td>\n",
       "      <td>6.0</td>\n",
       "      <td>7.0</td>\n",
       "      <td>8.0</td>\n",
       "    </tr>\n",
       "    <tr>\n",
       "      <th>c</th>\n",
       "      <td>10.0</td>\n",
       "      <td>11.0</td>\n",
       "      <td>12.0</td>\n",
       "      <td>13.0</td>\n",
       "    </tr>\n",
       "    <tr>\n",
       "      <th>d</th>\n",
       "      <td>NaN</td>\n",
       "      <td>NaN</td>\n",
       "      <td>NaN</td>\n",
       "      <td>NaN</td>\n",
       "    </tr>\n",
       "    <tr>\n",
       "      <th>e</th>\n",
       "      <td>NaN</td>\n",
       "      <td>NaN</td>\n",
       "      <td>NaN</td>\n",
       "      <td>NaN</td>\n",
       "    </tr>\n",
       "  </tbody>\n",
       "</table>\n",
       "</div>"
      ],
      "text/plain": [
       "   ohio  texas  colorado  oregan\n",
       "a   0.0    1.0       2.0     3.0\n",
       "b   5.0    6.0       7.0     8.0\n",
       "c  10.0   11.0      12.0    13.0\n",
       "d   NaN    NaN       NaN     NaN\n",
       "e   NaN    NaN       NaN     NaN"
      ]
     },
     "execution_count": 13,
     "metadata": {},
     "output_type": "execute_result"
    }
   ],
   "source": [
    "df10.add(s1,axis = 'index') # DF + Series 默认是在axis = 'comlumns'"
   ]
  },
  {
   "cell_type": "code",
   "execution_count": 19,
   "metadata": {
    "collapsed": true
   },
   "outputs": [],
   "source": [
    "df10.drop('a',axis = 'index',inplace = True)"
   ]
  },
  {
   "cell_type": "code",
   "execution_count": 22,
   "metadata": {},
   "outputs": [
    {
     "data": {
      "text/html": [
       "<div>\n",
       "<style>\n",
       "    .dataframe thead tr:only-child th {\n",
       "        text-align: right;\n",
       "    }\n",
       "\n",
       "    .dataframe thead th {\n",
       "        text-align: left;\n",
       "    }\n",
       "\n",
       "    .dataframe tbody tr th {\n",
       "        vertical-align: top;\n",
       "    }\n",
       "</style>\n",
       "<table border=\"1\" class=\"dataframe\">\n",
       "  <thead>\n",
       "    <tr style=\"text-align: right;\">\n",
       "      <th></th>\n",
       "      <th>ohio</th>\n",
       "      <th>texas</th>\n",
       "      <th>colorado</th>\n",
       "      <th>oregan</th>\n",
       "    </tr>\n",
       "  </thead>\n",
       "  <tbody>\n",
       "    <tr>\n",
       "      <th>b</th>\n",
       "      <td>4</td>\n",
       "      <td>5</td>\n",
       "      <td>6</td>\n",
       "      <td>7</td>\n",
       "    </tr>\n",
       "  </tbody>\n",
       "</table>\n",
       "</div>"
      ],
      "text/plain": [
       "   ohio  texas  colorado  oregan\n",
       "b     4      5         6       7"
      ]
     },
     "execution_count": 22,
     "metadata": {},
     "output_type": "execute_result"
    }
   ],
   "source": [
    "df10.drop('c') # 因为只有再index中有‘c',pandas自动匹配到了它，如果行列中有相同的呢？\n",
    "df10.columns = list('abcd')"
   ]
  },
  {
   "cell_type": "code",
   "execution_count": 23,
   "metadata": {},
   "outputs": [
    {
     "data": {
      "text/html": [
       "<div>\n",
       "<style>\n",
       "    .dataframe thead tr:only-child th {\n",
       "        text-align: right;\n",
       "    }\n",
       "\n",
       "    .dataframe thead th {\n",
       "        text-align: left;\n",
       "    }\n",
       "\n",
       "    .dataframe tbody tr th {\n",
       "        vertical-align: top;\n",
       "    }\n",
       "</style>\n",
       "<table border=\"1\" class=\"dataframe\">\n",
       "  <thead>\n",
       "    <tr style=\"text-align: right;\">\n",
       "      <th></th>\n",
       "      <th>a</th>\n",
       "      <th>b</th>\n",
       "      <th>c</th>\n",
       "      <th>d</th>\n",
       "    </tr>\n",
       "  </thead>\n",
       "  <tbody>\n",
       "    <tr>\n",
       "      <th>b</th>\n",
       "      <td>4</td>\n",
       "      <td>5</td>\n",
       "      <td>6</td>\n",
       "      <td>7</td>\n",
       "    </tr>\n",
       "    <tr>\n",
       "      <th>c</th>\n",
       "      <td>8</td>\n",
       "      <td>9</td>\n",
       "      <td>10</td>\n",
       "      <td>11</td>\n",
       "    </tr>\n",
       "  </tbody>\n",
       "</table>\n",
       "</div>"
      ],
      "text/plain": [
       "   a  b   c   d\n",
       "b  4  5   6   7\n",
       "c  8  9  10  11"
      ]
     },
     "execution_count": 23,
     "metadata": {},
     "output_type": "execute_result"
    }
   ],
   "source": [
    "df10"
   ]
  },
  {
   "cell_type": "code",
   "execution_count": 24,
   "metadata": {
    "collapsed": true
   },
   "outputs": [],
   "source": [
    "df10.drop('b',inplace = True) # 都有的话，默认的是行索引"
   ]
  },
  {
   "cell_type": "code",
   "execution_count": 26,
   "metadata": {
    "collapsed": true
   },
   "outputs": [],
   "source": [
    "df10.drop('c',inplace = True)"
   ]
  },
  {
   "cell_type": "code",
   "execution_count": 38,
   "metadata": {},
   "outputs": [
    {
     "data": {
      "text/html": [
       "<div>\n",
       "<style>\n",
       "    .dataframe thead tr:only-child th {\n",
       "        text-align: right;\n",
       "    }\n",
       "\n",
       "    .dataframe thead th {\n",
       "        text-align: left;\n",
       "    }\n",
       "\n",
       "    .dataframe tbody tr th {\n",
       "        vertical-align: top;\n",
       "    }\n",
       "</style>\n",
       "<table border=\"1\" class=\"dataframe\">\n",
       "  <thead>\n",
       "    <tr style=\"text-align: right;\">\n",
       "      <th></th>\n",
       "      <th>ohio</th>\n",
       "      <th>texas</th>\n",
       "      <th>colorado</th>\n",
       "      <th>oregan</th>\n",
       "    </tr>\n",
       "  </thead>\n",
       "  <tbody>\n",
       "    <tr>\n",
       "      <th>a</th>\n",
       "      <td>0</td>\n",
       "      <td>1</td>\n",
       "      <td>2</td>\n",
       "      <td>3</td>\n",
       "    </tr>\n",
       "  </tbody>\n",
       "</table>\n",
       "</div>"
      ],
      "text/plain": [
       "   ohio  texas  colorado  oregan\n",
       "a     0      1         2       3"
      ]
     },
     "execution_count": 38,
     "metadata": {},
     "output_type": "execute_result"
    },
    {
     "data": {
      "text/html": [
       "<div>\n",
       "<style>\n",
       "    .dataframe thead tr:only-child th {\n",
       "        text-align: right;\n",
       "    }\n",
       "\n",
       "    .dataframe thead th {\n",
       "        text-align: left;\n",
       "    }\n",
       "\n",
       "    .dataframe tbody tr th {\n",
       "        vertical-align: top;\n",
       "    }\n",
       "</style>\n",
       "<table border=\"1\" class=\"dataframe\">\n",
       "  <thead>\n",
       "    <tr style=\"text-align: right;\">\n",
       "      <th></th>\n",
       "      <th>ohio</th>\n",
       "      <th>texas</th>\n",
       "    </tr>\n",
       "  </thead>\n",
       "  <tbody>\n",
       "    <tr>\n",
       "      <th>a</th>\n",
       "      <td>0</td>\n",
       "      <td>1</td>\n",
       "    </tr>\n",
       "    <tr>\n",
       "      <th>b</th>\n",
       "      <td>4</td>\n",
       "      <td>5</td>\n",
       "    </tr>\n",
       "    <tr>\n",
       "      <th>c</th>\n",
       "      <td>8</td>\n",
       "      <td>9</td>\n",
       "    </tr>\n",
       "  </tbody>\n",
       "</table>\n",
       "</div>"
      ],
      "text/plain": [
       "   ohio  texas\n",
       "a     0      1\n",
       "b     4      5\n",
       "c     8      9"
      ]
     },
     "execution_count": 38,
     "metadata": {},
     "output_type": "execute_result"
    }
   ],
   "source": [
    "df10[:1] # 默认索引的是行\n",
    "df10.loc[:,:'texas'] "
   ]
  },
  {
   "cell_type": "code",
   "execution_count": 46,
   "metadata": {},
   "outputs": [
    {
     "data": {
      "text/plain": [
       "1"
      ]
     },
     "execution_count": 46,
     "metadata": {},
     "output_type": "execute_result"
    },
    {
     "data": {
      "text/plain": [
       "1"
      ]
     },
     "execution_count": 46,
     "metadata": {},
     "output_type": "execute_result"
    },
    {
     "data": {
      "text/plain": [
       "True"
      ]
     },
     "execution_count": 46,
     "metadata": {},
     "output_type": "execute_result"
    }
   ],
   "source": [
    "df10.at['a','texas'] # 这个loc有啥不一样？\n",
    "df10.loc['a','texas'] # \n",
    "df10.at['a','texas'] == df10.loc['a','texas'] # 如果仅选出一个元素，看起来是一样的？"
   ]
  },
  {
   "cell_type": "code",
   "execution_count": 50,
   "metadata": {
    "collapsed": true
   },
   "outputs": [],
   "source": [
    "df10.drop('ohio',inplace = True,axis = 'columns') # 默认是行索引"
   ]
  },
  {
   "cell_type": "code",
   "execution_count": 52,
   "metadata": {
    "collapsed": true
   },
   "outputs": [],
   "source": [
    "df10.columns = list('abc')"
   ]
  },
  {
   "cell_type": "code",
   "execution_count": 56,
   "metadata": {},
   "outputs": [
    {
     "data": {
      "text/plain": [
       "a    1\n",
       "b    2\n",
       "c    3\n",
       "Name: a, dtype: int32"
      ]
     },
     "execution_count": 56,
     "metadata": {},
     "output_type": "execute_result"
    }
   ],
   "source": [
    "df10.loc['a']"
   ]
  },
  {
   "cell_type": "code",
   "execution_count": 59,
   "metadata": {},
   "outputs": [
    {
     "data": {
      "text/html": [
       "<div>\n",
       "<style>\n",
       "    .dataframe thead tr:only-child th {\n",
       "        text-align: right;\n",
       "    }\n",
       "\n",
       "    .dataframe thead th {\n",
       "        text-align: left;\n",
       "    }\n",
       "\n",
       "    .dataframe tbody tr th {\n",
       "        vertical-align: top;\n",
       "    }\n",
       "</style>\n",
       "<table border=\"1\" class=\"dataframe\">\n",
       "  <thead>\n",
       "    <tr style=\"text-align: right;\">\n",
       "      <th></th>\n",
       "      <th>a</th>\n",
       "      <th>b</th>\n",
       "      <th>c</th>\n",
       "    </tr>\n",
       "  </thead>\n",
       "  <tbody>\n",
       "    <tr>\n",
       "      <th>a</th>\n",
       "      <td>1</td>\n",
       "      <td>2</td>\n",
       "      <td>3</td>\n",
       "    </tr>\n",
       "    <tr>\n",
       "      <th>b</th>\n",
       "      <td>5</td>\n",
       "      <td>6</td>\n",
       "      <td>7</td>\n",
       "    </tr>\n",
       "    <tr>\n",
       "      <th>c</th>\n",
       "      <td>9</td>\n",
       "      <td>10</td>\n",
       "      <td>11</td>\n",
       "    </tr>\n",
       "  </tbody>\n",
       "</table>\n",
       "</div>"
      ],
      "text/plain": [
       "   a   b   c\n",
       "a  1   2   3\n",
       "b  5   6   7\n",
       "c  9  10  11"
      ]
     },
     "execution_count": 59,
     "metadata": {},
     "output_type": "execute_result"
    }
   ],
   "source": [
    "df10"
   ]
  },
  {
   "cell_type": "code",
   "execution_count": 72,
   "metadata": {},
   "outputs": [
    {
     "data": {
      "text/html": [
       "<div>\n",
       "<style>\n",
       "    .dataframe thead tr:only-child th {\n",
       "        text-align: right;\n",
       "    }\n",
       "\n",
       "    .dataframe thead th {\n",
       "        text-align: left;\n",
       "    }\n",
       "\n",
       "    .dataframe tbody tr th {\n",
       "        vertical-align: top;\n",
       "    }\n",
       "</style>\n",
       "<table border=\"1\" class=\"dataframe\">\n",
       "  <thead>\n",
       "    <tr style=\"text-align: right;\">\n",
       "      <th></th>\n",
       "      <th>a</th>\n",
       "      <th>b</th>\n",
       "      <th>c</th>\n",
       "    </tr>\n",
       "  </thead>\n",
       "  <tbody>\n",
       "    <tr>\n",
       "      <th>ohio</th>\n",
       "      <td>0</td>\n",
       "      <td>0</td>\n",
       "      <td>0</td>\n",
       "    </tr>\n",
       "    <tr>\n",
       "      <th>colifonia</th>\n",
       "      <td>4</td>\n",
       "      <td>4</td>\n",
       "      <td>4</td>\n",
       "    </tr>\n",
       "    <tr>\n",
       "      <th>texas</th>\n",
       "      <td>8</td>\n",
       "      <td>8</td>\n",
       "      <td>8</td>\n",
       "    </tr>\n",
       "  </tbody>\n",
       "</table>\n",
       "</div>"
      ],
      "text/plain": [
       "           a  b  c\n",
       "ohio       0  0  0\n",
       "colifonia  4  4  4\n",
       "texas      8  8  8"
      ]
     },
     "execution_count": 72,
     "metadata": {},
     "output_type": "execute_result"
    }
   ],
   "source": [
    "df10.sub(df10.loc['ohio'],axis = 1) # 默认是在列索引上(axis =1),索引要匹配，不匹配则uion"
   ]
  },
  {
   "cell_type": "code",
   "execution_count": 65,
   "metadata": {
    "collapsed": true
   },
   "outputs": [],
   "source": [
    "df10.index = ['ohio','colifonia','texas']"
   ]
  },
  {
   "cell_type": "code",
   "execution_count": 71,
   "metadata": {},
   "outputs": [
    {
     "data": {
      "text/html": [
       "<div>\n",
       "<style>\n",
       "    .dataframe thead tr:only-child th {\n",
       "        text-align: right;\n",
       "    }\n",
       "\n",
       "    .dataframe thead th {\n",
       "        text-align: left;\n",
       "    }\n",
       "\n",
       "    .dataframe tbody tr th {\n",
       "        vertical-align: top;\n",
       "    }\n",
       "</style>\n",
       "<table border=\"1\" class=\"dataframe\">\n",
       "  <thead>\n",
       "    <tr style=\"text-align: right;\">\n",
       "      <th></th>\n",
       "      <th>a</th>\n",
       "      <th>b</th>\n",
       "      <th>c</th>\n",
       "    </tr>\n",
       "  </thead>\n",
       "  <tbody>\n",
       "    <tr>\n",
       "      <th>ohio</th>\n",
       "      <td>0</td>\n",
       "      <td>0</td>\n",
       "      <td>0</td>\n",
       "    </tr>\n",
       "    <tr>\n",
       "      <th>colifonia</th>\n",
       "      <td>4</td>\n",
       "      <td>4</td>\n",
       "      <td>4</td>\n",
       "    </tr>\n",
       "    <tr>\n",
       "      <th>texas</th>\n",
       "      <td>8</td>\n",
       "      <td>8</td>\n",
       "      <td>8</td>\n",
       "    </tr>\n",
       "  </tbody>\n",
       "</table>\n",
       "</div>"
      ],
      "text/plain": [
       "           a  b  c\n",
       "ohio       0  0  0\n",
       "colifonia  4  4  4\n",
       "texas      8  8  8"
      ]
     },
     "execution_count": 71,
     "metadata": {},
     "output_type": "execute_result"
    }
   ],
   "source": [
    "df10.sub(df10.loc['ohio'])"
   ]
  },
  {
   "cell_type": "code",
   "execution_count": 73,
   "metadata": {},
   "outputs": [
    {
     "data": {
      "text/html": [
       "<div>\n",
       "<style>\n",
       "    .dataframe thead tr:only-child th {\n",
       "        text-align: right;\n",
       "    }\n",
       "\n",
       "    .dataframe thead th {\n",
       "        text-align: left;\n",
       "    }\n",
       "\n",
       "    .dataframe tbody tr th {\n",
       "        vertical-align: top;\n",
       "    }\n",
       "</style>\n",
       "<table border=\"1\" class=\"dataframe\">\n",
       "  <thead>\n",
       "    <tr style=\"text-align: right;\">\n",
       "      <th></th>\n",
       "      <th>ohio</th>\n",
       "      <th>texas</th>\n",
       "      <th>califnia</th>\n",
       "    </tr>\n",
       "  </thead>\n",
       "  <tbody>\n",
       "    <tr>\n",
       "      <th>a</th>\n",
       "      <td>0.861856</td>\n",
       "      <td>0.345762</td>\n",
       "      <td>-0.463403</td>\n",
       "    </tr>\n",
       "    <tr>\n",
       "      <th>b</th>\n",
       "      <td>-0.239420</td>\n",
       "      <td>1.270962</td>\n",
       "      <td>1.618210</td>\n",
       "    </tr>\n",
       "    <tr>\n",
       "      <th>c</th>\n",
       "      <td>-0.778999</td>\n",
       "      <td>-1.478413</td>\n",
       "      <td>-1.161025</td>\n",
       "    </tr>\n",
       "    <tr>\n",
       "      <th>d</th>\n",
       "      <td>-0.229906</td>\n",
       "      <td>1.121958</td>\n",
       "      <td>0.027531</td>\n",
       "    </tr>\n",
       "  </tbody>\n",
       "</table>\n",
       "</div>"
      ],
      "text/plain": [
       "       ohio     texas  califnia\n",
       "a  0.861856  0.345762 -0.463403\n",
       "b -0.239420  1.270962  1.618210\n",
       "c -0.778999 -1.478413 -1.161025\n",
       "d -0.229906  1.121958  0.027531"
      ]
     },
     "execution_count": 73,
     "metadata": {},
     "output_type": "execute_result"
    }
   ],
   "source": [
    "df12 = DataFrame(np.random.randn(4,3),\n",
    "                 index = list('abcd'),\n",
    "                columns = ['ohio','texas','califnia'])\n",
    "df12"
   ]
  },
  {
   "cell_type": "code",
   "execution_count": 74,
   "metadata": {},
   "outputs": [
    {
     "data": {
      "text/html": [
       "<div>\n",
       "<style>\n",
       "    .dataframe thead tr:only-child th {\n",
       "        text-align: right;\n",
       "    }\n",
       "\n",
       "    .dataframe thead th {\n",
       "        text-align: left;\n",
       "    }\n",
       "\n",
       "    .dataframe tbody tr th {\n",
       "        vertical-align: top;\n",
       "    }\n",
       "</style>\n",
       "<table border=\"1\" class=\"dataframe\">\n",
       "  <thead>\n",
       "    <tr style=\"text-align: right;\">\n",
       "      <th></th>\n",
       "      <th>ohio</th>\n",
       "      <th>texas</th>\n",
       "      <th>califnia</th>\n",
       "    </tr>\n",
       "  </thead>\n",
       "  <tbody>\n",
       "    <tr>\n",
       "      <th>a</th>\n",
       "      <td>0.861856</td>\n",
       "      <td>0.345762</td>\n",
       "      <td>0.463403</td>\n",
       "    </tr>\n",
       "    <tr>\n",
       "      <th>b</th>\n",
       "      <td>0.239420</td>\n",
       "      <td>1.270962</td>\n",
       "      <td>1.618210</td>\n",
       "    </tr>\n",
       "    <tr>\n",
       "      <th>c</th>\n",
       "      <td>0.778999</td>\n",
       "      <td>1.478413</td>\n",
       "      <td>1.161025</td>\n",
       "    </tr>\n",
       "    <tr>\n",
       "      <th>d</th>\n",
       "      <td>0.229906</td>\n",
       "      <td>1.121958</td>\n",
       "      <td>0.027531</td>\n",
       "    </tr>\n",
       "  </tbody>\n",
       "</table>\n",
       "</div>"
      ],
      "text/plain": [
       "       ohio     texas  califnia\n",
       "a  0.861856  0.345762  0.463403\n",
       "b  0.239420  1.270962  1.618210\n",
       "c  0.778999  1.478413  1.161025\n",
       "d  0.229906  1.121958  0.027531"
      ]
     },
     "execution_count": 74,
     "metadata": {},
     "output_type": "execute_result"
    }
   ],
   "source": [
    "np.abs(df12)"
   ]
  },
  {
   "cell_type": "code",
   "execution_count": 78,
   "metadata": {},
   "outputs": [
    {
     "data": {
      "text/plain": [
       "a    1.325259\n",
       "b    1.857630\n",
       "c    0.699414\n",
       "d    1.351864\n",
       "dtype: float64"
      ]
     },
     "execution_count": 78,
     "metadata": {},
     "output_type": "execute_result"
    }
   ],
   "source": [
    "f = lambda x : x.max()-x.min()\n",
    "df12.apply(f,axis = 1) #默认是 axis = 0"
   ]
  },
  {
   "cell_type": "code",
   "execution_count": 84,
   "metadata": {},
   "outputs": [
    {
     "data": {
      "text/html": [
       "<div>\n",
       "<style>\n",
       "    .dataframe thead tr:only-child th {\n",
       "        text-align: right;\n",
       "    }\n",
       "\n",
       "    .dataframe thead th {\n",
       "        text-align: left;\n",
       "    }\n",
       "\n",
       "    .dataframe tbody tr th {\n",
       "        vertical-align: top;\n",
       "    }\n",
       "</style>\n",
       "<table border=\"1\" class=\"dataframe\">\n",
       "  <thead>\n",
       "    <tr style=\"text-align: right;\">\n",
       "      <th></th>\n",
       "      <th>max</th>\n",
       "      <th>min</th>\n",
       "    </tr>\n",
       "  </thead>\n",
       "  <tbody>\n",
       "    <tr>\n",
       "      <th>a</th>\n",
       "      <td>0.861856</td>\n",
       "      <td>-0.463403</td>\n",
       "    </tr>\n",
       "    <tr>\n",
       "      <th>b</th>\n",
       "      <td>1.618210</td>\n",
       "      <td>-0.239420</td>\n",
       "    </tr>\n",
       "    <tr>\n",
       "      <th>c</th>\n",
       "      <td>-0.778999</td>\n",
       "      <td>-1.478413</td>\n",
       "    </tr>\n",
       "    <tr>\n",
       "      <th>d</th>\n",
       "      <td>1.121958</td>\n",
       "      <td>-0.229906</td>\n",
       "    </tr>\n",
       "  </tbody>\n",
       "</table>\n",
       "</div>"
      ],
      "text/plain": [
       "        max       min\n",
       "a  0.861856 -0.463403\n",
       "b  1.618210 -0.239420\n",
       "c -0.778999 -1.478413\n",
       "d  1.121958 -0.229906"
      ]
     },
     "execution_count": 84,
     "metadata": {},
     "output_type": "execute_result"
    }
   ],
   "source": [
    "def f(x):\n",
    "    return Series([x.max(), x.min()],index = ['max','min'])\n",
    "df12.apply(f,axis = 1) "
   ]
  },
  {
   "cell_type": "code",
   "execution_count": 81,
   "metadata": {},
   "outputs": [
    {
     "data": {
      "text/html": [
       "<div>\n",
       "<style>\n",
       "    .dataframe thead tr:only-child th {\n",
       "        text-align: right;\n",
       "    }\n",
       "\n",
       "    .dataframe thead th {\n",
       "        text-align: left;\n",
       "    }\n",
       "\n",
       "    .dataframe tbody tr th {\n",
       "        vertical-align: top;\n",
       "    }\n",
       "</style>\n",
       "<table border=\"1\" class=\"dataframe\">\n",
       "  <thead>\n",
       "    <tr style=\"text-align: right;\">\n",
       "      <th></th>\n",
       "      <th>ohio</th>\n",
       "      <th>texas</th>\n",
       "      <th>califnia</th>\n",
       "    </tr>\n",
       "  </thead>\n",
       "  <tbody>\n",
       "    <tr>\n",
       "      <th>a</th>\n",
       "      <td>0.86</td>\n",
       "      <td>0.35</td>\n",
       "      <td>-0.46</td>\n",
       "    </tr>\n",
       "    <tr>\n",
       "      <th>b</th>\n",
       "      <td>-0.24</td>\n",
       "      <td>1.27</td>\n",
       "      <td>1.62</td>\n",
       "    </tr>\n",
       "    <tr>\n",
       "      <th>c</th>\n",
       "      <td>-0.78</td>\n",
       "      <td>-1.48</td>\n",
       "      <td>-1.16</td>\n",
       "    </tr>\n",
       "    <tr>\n",
       "      <th>d</th>\n",
       "      <td>-0.23</td>\n",
       "      <td>1.12</td>\n",
       "      <td>0.03</td>\n",
       "    </tr>\n",
       "  </tbody>\n",
       "</table>\n",
       "</div>"
      ],
      "text/plain": [
       "    ohio  texas califnia\n",
       "a   0.86   0.35    -0.46\n",
       "b  -0.24   1.27     1.62\n",
       "c  -0.78  -1.48    -1.16\n",
       "d  -0.23   1.12     0.03"
      ]
     },
     "execution_count": 81,
     "metadata": {},
     "output_type": "execute_result"
    }
   ],
   "source": [
    "f = lambda x :'{0:.2f}'.format(x)\n",
    "df12.applymap(f)"
   ]
  },
  {
   "cell_type": "code",
   "execution_count": 83,
   "metadata": {},
   "outputs": [
    {
     "data": {
      "text/plain": [
       "ohio         0.86\n",
       "texas        0.35\n",
       "califnia    -0.46\n",
       "Name: a, dtype: object"
      ]
     },
     "execution_count": 83,
     "metadata": {},
     "output_type": "execute_result"
    }
   ],
   "source": [
    "df12.loc['a'].map(f)"
   ]
  },
  {
   "cell_type": "code",
   "execution_count": 87,
   "metadata": {},
   "outputs": [
    {
     "data": {
      "text/html": [
       "<div>\n",
       "<style>\n",
       "    .dataframe thead tr:only-child th {\n",
       "        text-align: right;\n",
       "    }\n",
       "\n",
       "    .dataframe thead th {\n",
       "        text-align: left;\n",
       "    }\n",
       "\n",
       "    .dataframe tbody tr th {\n",
       "        vertical-align: top;\n",
       "    }\n",
       "</style>\n",
       "<table border=\"1\" class=\"dataframe\">\n",
       "  <thead>\n",
       "    <tr style=\"text-align: right;\">\n",
       "      <th></th>\n",
       "      <th>texas</th>\n",
       "      <th>ohio</th>\n",
       "      <th>califnia</th>\n",
       "    </tr>\n",
       "  </thead>\n",
       "  <tbody>\n",
       "    <tr>\n",
       "      <th>a</th>\n",
       "      <td>0.345762</td>\n",
       "      <td>0.861856</td>\n",
       "      <td>-0.463403</td>\n",
       "    </tr>\n",
       "    <tr>\n",
       "      <th>b</th>\n",
       "      <td>1.270962</td>\n",
       "      <td>-0.239420</td>\n",
       "      <td>1.618210</td>\n",
       "    </tr>\n",
       "    <tr>\n",
       "      <th>c</th>\n",
       "      <td>-1.478413</td>\n",
       "      <td>-0.778999</td>\n",
       "      <td>-1.161025</td>\n",
       "    </tr>\n",
       "    <tr>\n",
       "      <th>d</th>\n",
       "      <td>1.121958</td>\n",
       "      <td>-0.229906</td>\n",
       "      <td>0.027531</td>\n",
       "    </tr>\n",
       "  </tbody>\n",
       "</table>\n",
       "</div>"
      ],
      "text/plain": [
       "      texas      ohio  califnia\n",
       "a  0.345762  0.861856 -0.463403\n",
       "b  1.270962 -0.239420  1.618210\n",
       "c -1.478413 -0.778999 -1.161025\n",
       "d  1.121958 -0.229906  0.027531"
      ]
     },
     "execution_count": 87,
     "metadata": {},
     "output_type": "execute_result"
    }
   ],
   "source": [
    "df12.sort_index(axis = 1,ascending=False)"
   ]
  },
  {
   "cell_type": "code",
   "execution_count": 95,
   "metadata": {},
   "outputs": [
    {
     "data": {
      "text/plain": [
       "d    3.0\n",
       "c    1.0\n",
       "b    4.0\n",
       "a    2.0\n",
       "Name: texas, dtype: float64"
      ]
     },
     "execution_count": 95,
     "metadata": {},
     "output_type": "execute_result"
    }
   ],
   "source": [
    "df12.texas.sort_index(ascending=False).rank(method = 'first') # 排名"
   ]
  },
  {
   "cell_type": "code",
   "execution_count": 97,
   "metadata": {},
   "outputs": [
    {
     "data": {
      "text/html": [
       "<div>\n",
       "<style>\n",
       "    .dataframe thead tr:only-child th {\n",
       "        text-align: right;\n",
       "    }\n",
       "\n",
       "    .dataframe thead th {\n",
       "        text-align: left;\n",
       "    }\n",
       "\n",
       "    .dataframe tbody tr th {\n",
       "        vertical-align: top;\n",
       "    }\n",
       "</style>\n",
       "<table border=\"1\" class=\"dataframe\">\n",
       "  <thead>\n",
       "    <tr style=\"text-align: right;\">\n",
       "      <th></th>\n",
       "      <th>ohio</th>\n",
       "      <th>texas</th>\n",
       "      <th>califnia</th>\n",
       "    </tr>\n",
       "  </thead>\n",
       "  <tbody>\n",
       "    <tr>\n",
       "      <th>a</th>\n",
       "      <td>3.0</td>\n",
       "      <td>2.0</td>\n",
       "      <td>1.0</td>\n",
       "    </tr>\n",
       "    <tr>\n",
       "      <th>b</th>\n",
       "      <td>1.0</td>\n",
       "      <td>2.0</td>\n",
       "      <td>3.0</td>\n",
       "    </tr>\n",
       "    <tr>\n",
       "      <th>c</th>\n",
       "      <td>3.0</td>\n",
       "      <td>1.0</td>\n",
       "      <td>2.0</td>\n",
       "    </tr>\n",
       "    <tr>\n",
       "      <th>d</th>\n",
       "      <td>1.0</td>\n",
       "      <td>3.0</td>\n",
       "      <td>2.0</td>\n",
       "    </tr>\n",
       "  </tbody>\n",
       "</table>\n",
       "</div>"
      ],
      "text/plain": [
       "   ohio  texas  califnia\n",
       "a   3.0    2.0       1.0\n",
       "b   1.0    2.0       3.0\n",
       "c   3.0    1.0       2.0\n",
       "d   1.0    3.0       2.0"
      ]
     },
     "execution_count": 97,
     "metadata": {},
     "output_type": "execute_result"
    }
   ],
   "source": [
    "df12.rank(axis = 1)"
   ]
  },
  {
   "cell_type": "code",
   "execution_count": 99,
   "metadata": {
    "collapsed": true
   },
   "outputs": [],
   "source": [
    "df12.index = list('abc') + ['c']"
   ]
  },
  {
   "cell_type": "code",
   "execution_count": 102,
   "metadata": {},
   "outputs": [
    {
     "data": {
      "text/html": [
       "<div>\n",
       "<style>\n",
       "    .dataframe thead tr:only-child th {\n",
       "        text-align: right;\n",
       "    }\n",
       "\n",
       "    .dataframe thead th {\n",
       "        text-align: left;\n",
       "    }\n",
       "\n",
       "    .dataframe tbody tr th {\n",
       "        vertical-align: top;\n",
       "    }\n",
       "</style>\n",
       "<table border=\"1\" class=\"dataframe\">\n",
       "  <thead>\n",
       "    <tr style=\"text-align: right;\">\n",
       "      <th></th>\n",
       "      <th>ohio</th>\n",
       "      <th>texas</th>\n",
       "      <th>califnia</th>\n",
       "    </tr>\n",
       "  </thead>\n",
       "  <tbody>\n",
       "    <tr>\n",
       "      <th>c</th>\n",
       "      <td>-0.778999</td>\n",
       "      <td>-1.478413</td>\n",
       "      <td>-1.161025</td>\n",
       "    </tr>\n",
       "    <tr>\n",
       "      <th>c</th>\n",
       "      <td>-0.229906</td>\n",
       "      <td>1.121958</td>\n",
       "      <td>0.027531</td>\n",
       "    </tr>\n",
       "  </tbody>\n",
       "</table>\n",
       "</div>"
      ],
      "text/plain": [
       "       ohio     texas  califnia\n",
       "c -0.778999 -1.478413 -1.161025\n",
       "c -0.229906  1.121958  0.027531"
      ]
     },
     "execution_count": 102,
     "metadata": {},
     "output_type": "execute_result"
    }
   ],
   "source": [
    "df12.loc['c'] # 有相同索引的话，就会直接取出全部"
   ]
  },
  {
   "cell_type": "code",
   "execution_count": 105,
   "metadata": {},
   "outputs": [
    {
     "data": {
      "text/plain": [
       "False"
      ]
     },
     "execution_count": 105,
     "metadata": {},
     "output_type": "execute_result"
    }
   ],
   "source": [
    "df12.index.is_unique # is_unique这个属性对行列索引都适用"
   ]
  },
  {
   "cell_type": "code",
   "execution_count": 115,
   "metadata": {},
   "outputs": [
    {
     "data": {
      "text/html": [
       "<div>\n",
       "<style>\n",
       "    .dataframe thead tr:only-child th {\n",
       "        text-align: right;\n",
       "    }\n",
       "\n",
       "    .dataframe thead th {\n",
       "        text-align: left;\n",
       "    }\n",
       "\n",
       "    .dataframe tbody tr th {\n",
       "        vertical-align: top;\n",
       "    }\n",
       "</style>\n",
       "<table border=\"1\" class=\"dataframe\">\n",
       "  <thead>\n",
       "    <tr style=\"text-align: right;\">\n",
       "      <th></th>\n",
       "      <th>one</th>\n",
       "      <th>two</th>\n",
       "    </tr>\n",
       "  </thead>\n",
       "  <tbody>\n",
       "    <tr>\n",
       "      <th>a</th>\n",
       "      <td>1.0</td>\n",
       "      <td>2</td>\n",
       "    </tr>\n",
       "    <tr>\n",
       "      <th>b</th>\n",
       "      <td>3.0</td>\n",
       "      <td>4</td>\n",
       "    </tr>\n",
       "    <tr>\n",
       "      <th>c</th>\n",
       "      <td>NaN</td>\n",
       "      <td>5</td>\n",
       "    </tr>\n",
       "    <tr>\n",
       "      <th>d</th>\n",
       "      <td>6.0</td>\n",
       "      <td>7</td>\n",
       "    </tr>\n",
       "  </tbody>\n",
       "</table>\n",
       "</div>"
      ],
      "text/plain": [
       "   one  two\n",
       "a  1.0    2\n",
       "b  3.0    4\n",
       "c  NaN    5\n",
       "d  6.0    7"
      ]
     },
     "execution_count": 115,
     "metadata": {},
     "output_type": "execute_result"
    }
   ],
   "source": [
    "df13 = DataFrame([[1,2],[3,4],[np.nan,5],[6,7]],index = pd.Index(['a','b','c','d']), columns = ['one','two'])  \n",
    "df13"
   ]
  },
  {
   "cell_type": "code",
   "execution_count": 117,
   "metadata": {},
   "outputs": [
    {
     "data": {
      "text/plain": [
       "a     3.0\n",
       "b     7.0\n",
       "c     5.0\n",
       "d    13.0\n",
       "dtype: float64"
      ]
     },
     "execution_count": 117,
     "metadata": {},
     "output_type": "execute_result"
    }
   ],
   "source": [
    "df13.sum(axis = 1)"
   ]
  },
  {
   "cell_type": "code",
   "execution_count": 118,
   "metadata": {},
   "outputs": [
    {
     "data": {
      "text/plain": [
       "one     NaN\n",
       "two    18.0\n",
       "dtype: float64"
      ]
     },
     "execution_count": 118,
     "metadata": {},
     "output_type": "execute_result"
    }
   ],
   "source": [
    "df13.sum(axis=0,skipna = False)"
   ]
  },
  {
   "cell_type": "code",
   "execution_count": 123,
   "metadata": {},
   "outputs": [
    {
     "data": {
      "text/plain": [
       "a    one\n",
       "b    one\n",
       "c    two\n",
       "d    one\n",
       "dtype: object"
      ]
     },
     "execution_count": 123,
     "metadata": {},
     "output_type": "execute_result"
    }
   ],
   "source": [
    "df13.idxmin(axis = 1) # 定位最大值的位置"
   ]
  },
  {
   "cell_type": "code",
   "execution_count": 128,
   "metadata": {},
   "outputs": [
    {
     "data": {
      "text/html": [
       "<div>\n",
       "<style>\n",
       "    .dataframe thead tr:only-child th {\n",
       "        text-align: right;\n",
       "    }\n",
       "\n",
       "    .dataframe thead th {\n",
       "        text-align: left;\n",
       "    }\n",
       "\n",
       "    .dataframe tbody tr th {\n",
       "        vertical-align: top;\n",
       "    }\n",
       "</style>\n",
       "<table border=\"1\" class=\"dataframe\">\n",
       "  <thead>\n",
       "    <tr style=\"text-align: right;\">\n",
       "      <th></th>\n",
       "      <th>one</th>\n",
       "      <th>two</th>\n",
       "    </tr>\n",
       "  </thead>\n",
       "  <tbody>\n",
       "    <tr>\n",
       "      <th>a</th>\n",
       "      <td>NaN</td>\n",
       "      <td>NaN</td>\n",
       "    </tr>\n",
       "    <tr>\n",
       "      <th>b</th>\n",
       "      <td>2.0</td>\n",
       "      <td>1.00</td>\n",
       "    </tr>\n",
       "    <tr>\n",
       "      <th>c</th>\n",
       "      <td>NaN</td>\n",
       "      <td>0.25</td>\n",
       "    </tr>\n",
       "    <tr>\n",
       "      <th>d</th>\n",
       "      <td>1.0</td>\n",
       "      <td>0.40</td>\n",
       "    </tr>\n",
       "  </tbody>\n",
       "</table>\n",
       "</div>"
      ],
      "text/plain": [
       "   one   two\n",
       "a  NaN   NaN\n",
       "b  2.0  1.00\n",
       "c  NaN  0.25\n",
       "d  1.0  0.40"
      ]
     },
     "execution_count": 128,
     "metadata": {},
     "output_type": "execute_result"
    }
   ],
   "source": [
    "df13.pct_change() # 相比较前一个数，变化率"
   ]
  },
  {
   "cell_type": "code",
   "execution_count": 136,
   "metadata": {},
   "outputs": [
    {
     "data": {
      "text/plain": [
       "one    1.0\n",
       "two    1.0\n",
       "dtype: float64"
      ]
     },
     "execution_count": 136,
     "metadata": {},
     "output_type": "execute_result"
    }
   ],
   "source": [
    "df13.corrwith(df13.two)"
   ]
  },
  {
   "cell_type": "code",
   "execution_count": 140,
   "metadata": {},
   "outputs": [
    {
     "data": {
      "text/plain": [
       "array([ 0.86185634, -0.2394198 , -0.77899893, -0.22990649])"
      ]
     },
     "execution_count": 140,
     "metadata": {},
     "output_type": "execute_result"
    }
   ],
   "source": [
    "df12.ohio.unique()"
   ]
  },
  {
   "cell_type": "code",
   "execution_count": 150,
   "metadata": {},
   "outputs": [
    {
     "data": {
      "text/plain": [
       "-0.239420    1\n",
       "-0.778999    1\n",
       " 0.861856    1\n",
       "-0.229906    1\n",
       "Name: ohio, dtype: int64"
      ]
     },
     "execution_count": 150,
     "metadata": {},
     "output_type": "execute_result"
    },
    {
     "data": {
      "text/html": [
       "<div>\n",
       "<style>\n",
       "    .dataframe thead tr:only-child th {\n",
       "        text-align: right;\n",
       "    }\n",
       "\n",
       "    .dataframe thead th {\n",
       "        text-align: left;\n",
       "    }\n",
       "\n",
       "    .dataframe tbody tr th {\n",
       "        vertical-align: top;\n",
       "    }\n",
       "</style>\n",
       "<table border=\"1\" class=\"dataframe\">\n",
       "  <thead>\n",
       "    <tr style=\"text-align: right;\">\n",
       "      <th></th>\n",
       "      <th>texas</th>\n",
       "    </tr>\n",
       "    <tr>\n",
       "      <th>ohio</th>\n",
       "      <th></th>\n",
       "    </tr>\n",
       "  </thead>\n",
       "  <tbody>\n",
       "    <tr>\n",
       "      <th>-0.778999</th>\n",
       "      <td>1</td>\n",
       "    </tr>\n",
       "    <tr>\n",
       "      <th>-0.239420</th>\n",
       "      <td>1</td>\n",
       "    </tr>\n",
       "    <tr>\n",
       "      <th>-0.229906</th>\n",
       "      <td>1</td>\n",
       "    </tr>\n",
       "    <tr>\n",
       "      <th>0.861856</th>\n",
       "      <td>1</td>\n",
       "    </tr>\n",
       "  </tbody>\n",
       "</table>\n",
       "</div>"
      ],
      "text/plain": [
       "           texas\n",
       "ohio            \n",
       "-0.778999      1\n",
       "-0.239420      1\n",
       "-0.229906      1\n",
       " 0.861856      1"
      ]
     },
     "execution_count": 150,
     "metadata": {},
     "output_type": "execute_result"
    }
   ],
   "source": [
    "df12.ohio.value_counts(sort = True) # 统计值出现的次数，如果没有这个方法，就要用到\n",
    "df12.groupby('ohio',as_index = True ).count()[['texas']] # 哪有上面的来的简单"
   ]
  },
  {
   "cell_type": "code",
   "execution_count": 152,
   "metadata": {},
   "outputs": [
    {
     "data": {
      "text/plain": [
       "array([ True,  True, False, False], dtype=bool)"
      ]
     },
     "execution_count": 152,
     "metadata": {},
     "output_type": "execute_result"
    }
   ],
   "source": [
    "df12.index.isin(['a','b'])"
   ]
  },
  {
   "cell_type": "code",
   "execution_count": 162,
   "metadata": {},
   "outputs": [
    {
     "data": {
      "text/plain": [
       "array([ 0,  0,  1, -1], dtype=int64)"
      ]
     },
     "execution_count": 162,
     "metadata": {},
     "output_type": "execute_result"
    }
   ],
   "source": [
    "pd.Index(['a','b']).get_indexer(Series(['a','a','b','v']))"
   ]
  },
  {
   "cell_type": "code",
   "execution_count": 165,
   "metadata": {},
   "outputs": [
    {
     "data": {
      "text/html": [
       "<div>\n",
       "<style>\n",
       "    .dataframe thead tr:only-child th {\n",
       "        text-align: right;\n",
       "    }\n",
       "\n",
       "    .dataframe thead th {\n",
       "        text-align: left;\n",
       "    }\n",
       "\n",
       "    .dataframe tbody tr th {\n",
       "        vertical-align: top;\n",
       "    }\n",
       "</style>\n",
       "<table border=\"1\" class=\"dataframe\">\n",
       "  <thead>\n",
       "    <tr style=\"text-align: right;\">\n",
       "      <th></th>\n",
       "      <th>ohio</th>\n",
       "      <th>texas</th>\n",
       "      <th>califnia</th>\n",
       "    </tr>\n",
       "  </thead>\n",
       "  <tbody>\n",
       "    <tr>\n",
       "      <th>a</th>\n",
       "      <td>0.861856</td>\n",
       "      <td>0.345762</td>\n",
       "      <td>-0.463403</td>\n",
       "    </tr>\n",
       "    <tr>\n",
       "      <th>b</th>\n",
       "      <td>-0.239420</td>\n",
       "      <td>1.270962</td>\n",
       "      <td>1.618210</td>\n",
       "    </tr>\n",
       "    <tr>\n",
       "      <th>c</th>\n",
       "      <td>-0.778999</td>\n",
       "      <td>-1.478413</td>\n",
       "      <td>-1.161025</td>\n",
       "    </tr>\n",
       "    <tr>\n",
       "      <th>c</th>\n",
       "      <td>-0.229906</td>\n",
       "      <td>1.121958</td>\n",
       "      <td>0.027531</td>\n",
       "    </tr>\n",
       "  </tbody>\n",
       "</table>\n",
       "</div>"
      ],
      "text/plain": [
       "       ohio     texas  califnia\n",
       "a  0.861856  0.345762 -0.463403\n",
       "b -0.239420  1.270962  1.618210\n",
       "c -0.778999 -1.478413 -1.161025\n",
       "c -0.229906  1.121958  0.027531"
      ]
     },
     "execution_count": 165,
     "metadata": {},
     "output_type": "execute_result"
    }
   ],
   "source": [
    "df12"
   ]
  },
  {
   "cell_type": "code",
   "execution_count": 166,
   "metadata": {},
   "outputs": [
    {
     "data": {
      "text/html": [
       "<div>\n",
       "<style>\n",
       "    .dataframe thead tr:only-child th {\n",
       "        text-align: right;\n",
       "    }\n",
       "\n",
       "    .dataframe thead th {\n",
       "        text-align: left;\n",
       "    }\n",
       "\n",
       "    .dataframe tbody tr th {\n",
       "        vertical-align: top;\n",
       "    }\n",
       "</style>\n",
       "<table border=\"1\" class=\"dataframe\">\n",
       "  <thead>\n",
       "    <tr style=\"text-align: right;\">\n",
       "      <th></th>\n",
       "      <th>ohio</th>\n",
       "      <th>texas</th>\n",
       "      <th>califnia</th>\n",
       "    </tr>\n",
       "  </thead>\n",
       "  <tbody>\n",
       "    <tr>\n",
       "      <th>-1.478413</th>\n",
       "      <td>0.0</td>\n",
       "      <td>1.0</td>\n",
       "      <td>0.0</td>\n",
       "    </tr>\n",
       "    <tr>\n",
       "      <th>-1.161025</th>\n",
       "      <td>0.0</td>\n",
       "      <td>0.0</td>\n",
       "      <td>1.0</td>\n",
       "    </tr>\n",
       "    <tr>\n",
       "      <th>-0.778999</th>\n",
       "      <td>1.0</td>\n",
       "      <td>0.0</td>\n",
       "      <td>0.0</td>\n",
       "    </tr>\n",
       "    <tr>\n",
       "      <th>-0.463403</th>\n",
       "      <td>0.0</td>\n",
       "      <td>0.0</td>\n",
       "      <td>1.0</td>\n",
       "    </tr>\n",
       "    <tr>\n",
       "      <th>-0.239420</th>\n",
       "      <td>1.0</td>\n",
       "      <td>0.0</td>\n",
       "      <td>0.0</td>\n",
       "    </tr>\n",
       "    <tr>\n",
       "      <th>-0.229906</th>\n",
       "      <td>1.0</td>\n",
       "      <td>0.0</td>\n",
       "      <td>0.0</td>\n",
       "    </tr>\n",
       "    <tr>\n",
       "      <th>0.027531</th>\n",
       "      <td>0.0</td>\n",
       "      <td>0.0</td>\n",
       "      <td>1.0</td>\n",
       "    </tr>\n",
       "    <tr>\n",
       "      <th>0.345762</th>\n",
       "      <td>0.0</td>\n",
       "      <td>1.0</td>\n",
       "      <td>0.0</td>\n",
       "    </tr>\n",
       "    <tr>\n",
       "      <th>0.861856</th>\n",
       "      <td>1.0</td>\n",
       "      <td>0.0</td>\n",
       "      <td>0.0</td>\n",
       "    </tr>\n",
       "    <tr>\n",
       "      <th>1.121958</th>\n",
       "      <td>0.0</td>\n",
       "      <td>1.0</td>\n",
       "      <td>0.0</td>\n",
       "    </tr>\n",
       "    <tr>\n",
       "      <th>1.270962</th>\n",
       "      <td>0.0</td>\n",
       "      <td>1.0</td>\n",
       "      <td>0.0</td>\n",
       "    </tr>\n",
       "    <tr>\n",
       "      <th>1.618210</th>\n",
       "      <td>0.0</td>\n",
       "      <td>0.0</td>\n",
       "      <td>1.0</td>\n",
       "    </tr>\n",
       "  </tbody>\n",
       "</table>\n",
       "</div>"
      ],
      "text/plain": [
       "           ohio  texas  califnia\n",
       "-1.478413   0.0    1.0       0.0\n",
       "-1.161025   0.0    0.0       1.0\n",
       "-0.778999   1.0    0.0       0.0\n",
       "-0.463403   0.0    0.0       1.0\n",
       "-0.239420   1.0    0.0       0.0\n",
       "-0.229906   1.0    0.0       0.0\n",
       " 0.027531   0.0    0.0       1.0\n",
       " 0.345762   0.0    1.0       0.0\n",
       " 0.861856   1.0    0.0       0.0\n",
       " 1.121958   0.0    1.0       0.0\n",
       " 1.270962   0.0    1.0       0.0\n",
       " 1.618210   0.0    0.0       1.0"
      ]
     },
     "execution_count": 166,
     "metadata": {},
     "output_type": "execute_result"
    }
   ],
   "source": [
    "df12.apply(pd.value_counts).fillna(0) # value_counts只能在Series上操作，所以要用apply这个"
   ]
  }
 ],
 "metadata": {
  "kernelspec": {
   "display_name": "Python 3",
   "language": "python",
   "name": "python3"
  },
  "language_info": {
   "codemirror_mode": {
    "name": "ipython",
    "version": 3
   },
   "file_extension": ".py",
   "mimetype": "text/x-python",
   "name": "python",
   "nbconvert_exporter": "python",
   "pygments_lexer": "ipython3",
   "version": "3.5.4"
  }
 },
 "nbformat": 4,
 "nbformat_minor": 2
}
